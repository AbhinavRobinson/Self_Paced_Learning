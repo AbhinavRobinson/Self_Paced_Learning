{
 "cells": [
  {
   "cell_type": "code",
   "execution_count": 1,
   "metadata": {},
   "outputs": [],
   "source": [
    "import os"
   ]
  },
  {
   "cell_type": "code",
   "execution_count": 2,
   "metadata": {},
   "outputs": [
    {
     "data": {
      "text/plain": [
       "'F:\\\\backup_data\\\\nlp'"
      ]
     },
     "execution_count": 2,
     "metadata": {},
     "output_type": "execute_result"
    }
   ],
   "source": [
    "os.getcwd()"
   ]
  },
  {
   "cell_type": "markdown",
   "metadata": {},
   "source": [
    "# Data Import"
   ]
  },
  {
   "cell_type": "code",
   "execution_count": 4,
   "metadata": {},
   "outputs": [],
   "source": [
    "import pandas as pd"
   ]
  },
  {
   "cell_type": "code",
   "execution_count": 5,
   "metadata": {},
   "outputs": [],
   "source": [
    "text = pd.read_csv('chennai_reviews.csv')"
   ]
  },
  {
   "cell_type": "code",
   "execution_count": 6,
   "metadata": {},
   "outputs": [
    {
     "data": {
      "text/html": [
       "<div>\n",
       "<style scoped>\n",
       "    .dataframe tbody tr th:only-of-type {\n",
       "        vertical-align: middle;\n",
       "    }\n",
       "\n",
       "    .dataframe tbody tr th {\n",
       "        vertical-align: top;\n",
       "    }\n",
       "\n",
       "    .dataframe thead th {\n",
       "        text-align: right;\n",
       "    }\n",
       "</style>\n",
       "<table border=\"1\" class=\"dataframe\">\n",
       "  <thead>\n",
       "    <tr style=\"text-align: right;\">\n",
       "      <th></th>\n",
       "      <th>Hotel_name</th>\n",
       "      <th>Review_Title</th>\n",
       "      <th>Review_Text</th>\n",
       "      <th>Sentiment</th>\n",
       "      <th>Rating_Percentage</th>\n",
       "      <th>Unnamed: 5</th>\n",
       "      <th>Unnamed: 6</th>\n",
       "      <th>Unnamed: 7</th>\n",
       "      <th>Unnamed: 8</th>\n",
       "    </tr>\n",
       "  </thead>\n",
       "  <tbody>\n",
       "    <tr>\n",
       "      <th>0</th>\n",
       "      <td>Accord Metropolitan</td>\n",
       "      <td>Excellent comfortableness during stay</td>\n",
       "      <td>Its really nice place to stay especially for b...</td>\n",
       "      <td>3</td>\n",
       "      <td>100</td>\n",
       "      <td>NaN</td>\n",
       "      <td>NaN</td>\n",
       "      <td>NaN</td>\n",
       "      <td>NaN</td>\n",
       "    </tr>\n",
       "    <tr>\n",
       "      <th>1</th>\n",
       "      <td>Accord Metropolitan</td>\n",
       "      <td>Not too comfortable</td>\n",
       "      <td>It seems that hotel does not check the basic a...</td>\n",
       "      <td>1</td>\n",
       "      <td>20</td>\n",
       "      <td>NaN</td>\n",
       "      <td>NaN</td>\n",
       "      <td>NaN</td>\n",
       "      <td>NaN</td>\n",
       "    </tr>\n",
       "    <tr>\n",
       "      <th>2</th>\n",
       "      <td>Accord Metropolitan</td>\n",
       "      <td>NaN</td>\n",
       "      <td>Worst hotel I have ever encountered. I will ne...</td>\n",
       "      <td>1</td>\n",
       "      <td>20</td>\n",
       "      <td>NaN</td>\n",
       "      <td>NaN</td>\n",
       "      <td>NaN</td>\n",
       "      <td>NaN</td>\n",
       "    </tr>\n",
       "    <tr>\n",
       "      <th>3</th>\n",
       "      <td>Accord Metropolitan</td>\n",
       "      <td>Best hotel</td>\n",
       "      <td>Had a good time in this hotel and the staff Ku...</td>\n",
       "      <td>3</td>\n",
       "      <td>100</td>\n",
       "      <td>NaN</td>\n",
       "      <td>NaN</td>\n",
       "      <td>NaN</td>\n",
       "      <td>NaN</td>\n",
       "    </tr>\n",
       "    <tr>\n",
       "      <th>4</th>\n",
       "      <td>Accord Metropolitan</td>\n",
       "      <td>NaN</td>\n",
       "      <td>good hotel and staff Veg food good non veg bre...</td>\n",
       "      <td>3</td>\n",
       "      <td>100</td>\n",
       "      <td>NaN</td>\n",
       "      <td>NaN</td>\n",
       "      <td>NaN</td>\n",
       "      <td>NaN</td>\n",
       "    </tr>\n",
       "  </tbody>\n",
       "</table>\n",
       "</div>"
      ],
      "text/plain": [
       "            Hotel_name                           Review_Title  \\\n",
       "0  Accord Metropolitan  Excellent comfortableness during stay   \n",
       "1  Accord Metropolitan                    Not too comfortable   \n",
       "2  Accord Metropolitan                                    NaN   \n",
       "3  Accord Metropolitan                             Best hotel   \n",
       "4  Accord Metropolitan                                    NaN   \n",
       "\n",
       "                                         Review_Text Sentiment  \\\n",
       "0  Its really nice place to stay especially for b...         3   \n",
       "1  It seems that hotel does not check the basic a...         1   \n",
       "2  Worst hotel I have ever encountered. I will ne...         1   \n",
       "3  Had a good time in this hotel and the staff Ku...         3   \n",
       "4  good hotel and staff Veg food good non veg bre...         3   \n",
       "\n",
       "  Rating_Percentage  Unnamed: 5 Unnamed: 6  Unnamed: 7  Unnamed: 8  \n",
       "0               100         NaN        NaN         NaN         NaN  \n",
       "1                20         NaN        NaN         NaN         NaN  \n",
       "2                20         NaN        NaN         NaN         NaN  \n",
       "3               100         NaN        NaN         NaN         NaN  \n",
       "4               100         NaN        NaN         NaN         NaN  "
      ]
     },
     "execution_count": 6,
     "metadata": {},
     "output_type": "execute_result"
    }
   ],
   "source": [
    "text.head()"
   ]
  },
  {
   "cell_type": "code",
   "execution_count": 7,
   "metadata": {},
   "outputs": [
    {
     "data": {
      "text/plain": [
       "(4768, 9)"
      ]
     },
     "execution_count": 7,
     "metadata": {},
     "output_type": "execute_result"
    }
   ],
   "source": [
    "text.shape"
   ]
  },
  {
   "cell_type": "code",
   "execution_count": 8,
   "metadata": {},
   "outputs": [
    {
     "data": {
      "text/plain": [
       "Index(['Hotel_name', 'Review_Title', 'Review_Text', 'Sentiment',\n",
       "       'Rating_Percentage', 'Unnamed: 5', 'Unnamed: 6', 'Unnamed: 7',\n",
       "       'Unnamed: 8'],\n",
       "      dtype='object')"
      ]
     },
     "execution_count": 8,
     "metadata": {},
     "output_type": "execute_result"
    }
   ],
   "source": [
    "text.columns"
   ]
  },
  {
   "cell_type": "code",
   "execution_count": 9,
   "metadata": {},
   "outputs": [],
   "source": [
    "text_data = text.loc[:,['Review_Text','Sentiment']] "
   ]
  },
  {
   "cell_type": "code",
   "execution_count": 10,
   "metadata": {},
   "outputs": [
    {
     "data": {
      "text/html": [
       "<div>\n",
       "<style scoped>\n",
       "    .dataframe tbody tr th:only-of-type {\n",
       "        vertical-align: middle;\n",
       "    }\n",
       "\n",
       "    .dataframe tbody tr th {\n",
       "        vertical-align: top;\n",
       "    }\n",
       "\n",
       "    .dataframe thead th {\n",
       "        text-align: right;\n",
       "    }\n",
       "</style>\n",
       "<table border=\"1\" class=\"dataframe\">\n",
       "  <thead>\n",
       "    <tr style=\"text-align: right;\">\n",
       "      <th></th>\n",
       "      <th>Review_Text</th>\n",
       "      <th>Sentiment</th>\n",
       "    </tr>\n",
       "  </thead>\n",
       "  <tbody>\n",
       "    <tr>\n",
       "      <th>0</th>\n",
       "      <td>Its really nice place to stay especially for b...</td>\n",
       "      <td>3</td>\n",
       "    </tr>\n",
       "    <tr>\n",
       "      <th>1</th>\n",
       "      <td>It seems that hotel does not check the basic a...</td>\n",
       "      <td>1</td>\n",
       "    </tr>\n",
       "    <tr>\n",
       "      <th>2</th>\n",
       "      <td>Worst hotel I have ever encountered. I will ne...</td>\n",
       "      <td>1</td>\n",
       "    </tr>\n",
       "    <tr>\n",
       "      <th>3</th>\n",
       "      <td>Had a good time in this hotel and the staff Ku...</td>\n",
       "      <td>3</td>\n",
       "    </tr>\n",
       "    <tr>\n",
       "      <th>4</th>\n",
       "      <td>good hotel and staff Veg food good non veg bre...</td>\n",
       "      <td>3</td>\n",
       "    </tr>\n",
       "  </tbody>\n",
       "</table>\n",
       "</div>"
      ],
      "text/plain": [
       "                                         Review_Text Sentiment\n",
       "0  Its really nice place to stay especially for b...         3\n",
       "1  It seems that hotel does not check the basic a...         1\n",
       "2  Worst hotel I have ever encountered. I will ne...         1\n",
       "3  Had a good time in this hotel and the staff Ku...         3\n",
       "4  good hotel and staff Veg food good non veg bre...         3"
      ]
     },
     "execution_count": 10,
     "metadata": {},
     "output_type": "execute_result"
    }
   ],
   "source": [
    "text_data.head()"
   ]
  },
  {
   "cell_type": "code",
   "execution_count": 11,
   "metadata": {},
   "outputs": [
    {
     "data": {
      "text/plain": [
       "array(['3', '1', '2',\n",
       "       'The hotel is located at a nice place on Thanickchalam road in Chennai. However, the hotel did not had a any restaurant and you had to manage your food in the room only. The services were ok, however, the property is not very well managed. Most of the time only veg food was available and the concept of service apartment was not so greatly utilized.',\n",
       "       'This place is perfectly located in the heart of Chennai though it’s away from the noise of honking or vehicles moving at fast pace which is the USP of this hotel. Enjoyed my stay here and it’s easily accessible for my friends too to visit me when I am in Chennai. No food options available in-house but they do arrange for packed breakfast for you in the morning. The room are neat and clean and gives enough of peace in the night.',\n",
       "       'Peace Park Inn is one of the best hotel. The rooms were huge and well decorated. Hotel atmosphere was calm and quite. Staff was polite and welcoming. Service was perfect. Food was tasty. Hotel has a small and beautiful garden. I would recommend this hotel for a short stay.',\n",
       "       ' the service is mind blowing! Yummy and delicious breakfast! Complimentary cake for the wedding couples! A must place to try!',\n",
       "       ' in good location with all access to malls and good hospitality worth staying in hotel try to stay and feel the ambience',\n",
       "       \"Nice island tucked away in busy/noisy Chennai. Excellent service, great food, especially you want the traditional South Indian. Their Chinese food is not bad either. The ice cream shop has flavours you haven't tasted before. More than food the rooms are tidy, bed clean and cosy, bathrooms modern with good water pressure.\",\n",
       "       ' comfy rooms',\n",
       "       'The room maintenance was very good they were changing the bedspreads daily. The room facilities were AC, TV and other normal facilities and unlimited WiFi connectivity. Complimentary breakfast, dinner and welcome drink provided and also a bar facility at night. The food is very good and especially chicken items were good. It is economical hotel and worth paying for the hotel.',\n",
       "       'The hotel is suitable for corporate guys for its location. Rooms were well furnished and maintained good. Room service menu has to be improved. The view from the room shows the entire IT hub of Chennai. Breakfast tastes good. Food is a bit expensive. Can prefer eating in food court of Ascendas, than going for a restaurant.',\n",
       "       'Stayed here for three nights. The hotel is well-located in the upmarket T nagar area of Chennai. Very nice rooms and excellent spread of breakfast. The staff were very warm, friendly and helpful. Will stay here again on my next trip to Chennai. A nice Hotel to stay in Chennai.',\n",
       "       '  they  do  not come inside',\n",
       "       ' excellent food. clean rooms. for some reason skimpy on providing toilet tissue! Wifi access could be easier and better.',\n",
       "       'This was a one night stay to change flights in Chennai. The hotel is close to the airport and provides free friendly pick up and drop. Friendly and helpful also in providing amenities.',\n",
       "       'It is located very convenient and room was spacious, neat and comfortable with good working basic amenities. Complimentary breakfast served, but there were no more varieties, the quality and taste of the food was good. I went here with family for relaxation. No problem during check-in and check-out and there were no activities. The hotel room tariff was value for money and it is recommendable to others.',\n",
       "       nan,\n",
       "       \"It's beside on OMR road, Thoraipakkam. Room services are not good. AC is also not good. Old model TV. I stayed with my colleague. I think it's not suitable to stay with family. Only for male that too stay one or two days. If you want to stay here, book through makemytrip, you will get good discount.\",\n",
       "       \"I don't think it's a good match. Much costlier but not of any use. Very hard to find the hotel area and location. Service can be improved a bit as well as it is with different PG system, hence is charging more than expected. Still you can try it.\",\n",
       "       ' but it did not meet my expectations. It took them 45 minutes to allocate a room & the room was very small as per 3 start standards.',\n",
       "       'It took more than 1 hr time to find out this hotel. Hotel exterior is pathetic. I shared my comments with the hotel management as well. But once I came inside the hotel, found polite staff, good and specious room, swimming pool facing dine. Food was also good. As per location is concerned, it is almost 20 km away from the city centre. But in the close proximity of IT corridor. I stayed there for 2 days and my overall experience was good.',\n",
       "       'I had visited this hotel for my personal work in Chennai. Check-in was super fast. Rooms are spacious, it consists of lots of Mosquitoes. AC is little bit order, freeze is very less. Wi-Fi is ok. Location is good middle of all IT offices. Food and service is awesome, no words about it.',\n",
       "       'Akash Inn is one of the best place in Chennai. Many people prefer this hotel only. All facilities are available in this hotel. Food is very good in taste and healthy.',\n",
       "       'I visited the place with my friends in a group. The services like cleaning, eatery and room service were very fine. The weather was very pleasant and soothing. We enjoyed very well. The overall experience of stay was fantastic.The exhibition center in front of this hotel was very beneficial for us.',\n",
       "       ' as everything served gives a feeling of having home food. Overall a great experience.',\n",
       "       'The hotel is clean, the rooms are comfortable and clean and also economically priced. Good value for money. It is just a 5 to 8 minute ride by auto from the airport. The staff is polite and helpful. Any problem with the room is attended promptly. The hotel however does not have a restaurant, but one can eat at many eateries close by.',\n",
       "       'I was not satisfied with the service and time taken to give me the key of hotel whole my check-in the hotel. The room was being cleaned when I visited in spite of time already been given to the management of the hotel. So its a never visit again property.',\n",
       "       'It was a nice hotel pleasant atmosphere, nice music system, cool A/C, entertainment also there. Coming to food point of view its really awesome and neatly done. Severs also serving with a smile I am liked it. Food is very very nice. Sambaridly is awesome and pongal also extraordinary. I am feel happy and refreshing with that hotel.',\n",
       "       \"Nice hotel for a short visit specifically if one's got some engagement in the nearby locations. We went there for a day to attend a wedding in the nearby vicinity. Good, small and comfortable rooms worth the price and particularly the breakfast was nice. Very courteous staff.\",\n",
       "       'The room was very good. The room service was very good. The quality and ambience of the hotel and the rooms were good and nice. I had a good time there. I had gone there for a holiday visit.',\n",
       "       'y enjoyed the one night stay at Gokulam Park Sabri Hotel.',\n",
       "       'I visited Chennai recently and stayed in this hotel. This is a good hotel with good facilities. There is a restaurant which offers tasty and varieties of food but a bit costly. The location is kind of good. The room is also good with TV and air conditioning facilities available. It is very hot in Chennai so it is advisable to take an umbrella because there are also sudden showers.',\n",
       "       'Location is very good. The staff are very good. One of the very best location and very secured. Very close to the American consulate and major shopping area and malls. Bus stops, rail and Autos available 24 hrs. Highly recommend to budget travellers.',\n",
       "       'Nice interiors, good service and affordable stay but the location was a bit complicated, took a bit to reach the hotel. I booked a room through goibibo and got a discount of 30%. They provided a complimentary breakfast,\\\\ and the items in the restaurant were delicious.',\n",
       "       'Its always satisfactory to stay at this hotel. The staff is courteous and the service is good. The food is very good, the complimentary breakfast has a decent spread of south Indian dishes. Its in T Nagar so well in the centre of the city. They have also started wood oven fresh pizza which are too good. Room is clean though a little compact.',\n",
       "       'The room was small but TV, safe, air conditioning, toiletries, towels and tea set was available. There was no refrigerator. Hot showers were attached to the bathroom water heater. Breakfast was buffet South Indian cuisine, toast, cornflakes, eggs, fruit juice and coffee. It was halfway from anywhere. It was happy to come to think of it in conjunction with the price.',\n",
       "       'We had a small baby accompanying us for the visa interview. Our train was to leave at a later time and we asked for some extra grace time. Initially the staff was uncompromising on our situation. However, the Hotel manager Mr. Balaji was very helpful. Full marks for the hotel manager and none for his other uncompromising staff, who did not even care when we said we had a small baby and wanted to charge double the room rent.',\n",
       "       'An extremely comfortable & clean hotel with courteous and efficient staff. Stayed for 2 days. Very good value for money. Breakfast was good. All calls to reception and room service were handled promptly. Packed breakfast for an early morning flight was really good. Recommended, especially for business travel.',\n",
       "       ' food is very good.',\n",
       "       \"We have visited for Sankar Netralaya for my father's eye treatment. We find the hotel was centrally located just behind the central railway station and J.N Stadium. The service was very good, the complimentary breakfast which impress all of us especially my father. Overall, nice experience with calm and pleasant environment.\",\n",
       "       'L SIGHT SEEING AND IN A COOL CLIMATE AND IT HAS VERY BEAUTIFUL PLACES NEAR THE HOTEL TO SEE IT HOTEL IS VERY NEAT AND CLEAN VERY GOOD CLANESS IN THER AND FOOD IS VERY TASTY AND GEORGIOUS AND IT HAS VERY GOOD SERVING THEIR AND ALSO HAD',\n",
       "       'The hotel where I stayed was full of entertainment along with GOOD CUISINES. The infrastructure is very awesome and I enjoyed it a lot with my friends. I was travelling a long distance. I advice all not to miss this hotel. One thing I did not like from the hotel is that the places were untidy.',\n",
       "       'It was the one of the best hotel of Chennai. The location of the hotel was very nice and relaxed. The staff was very obident all the things which the staff was provide to me is excellent. The food was very tasty in this hotel. The room was very nice and clean. They provide hot water to bath all the things was very nice. There it was my very nice experiance in this hotel.',\n",
       "       \"We had gone to Chennai for getting our Son's admission and during that time we had stayed in the New Park Hotel. The New Park Hotel is very neat and hygienic hotel. It was a nice experience in the hotel. The ambiance was good and their staff was very polite and helpful. Value for money stay.\",\n",
       "       \"If you make a plan for tour, then Chennai is one of the best destination. New Park Hotel is one of the best hotel of Chennai city. The hotel's location is quite clean and hygienic. Here staff work is adorable. This hotel provides room at cheap price. I like this hotel a lot. This hotel is good to stay with family and couple. Food facility of this hotel is also awesome.\",\n",
       "       'The address is a very different and peaceful place to stay relaxed and spend a weekend with friends or loved ones. The rooms are good and well maintained. The service is good. But the reception office and booking has turned out to be very bad now a days.',\n",
       "       'It is good place to stay in case you are travelling to Chennai and you are north Indian. The food served in restaurant was good. However, the food served in rooms is not up to the mark. The staffs are cooperative but due to language barrier, it is of not much use. I would advise if one want on business trip wants to stay for a day or two, it is nice to stay here as it is very near to Bus Stand.'],\n",
       "      dtype=object)"
      ]
     },
     "execution_count": 11,
     "metadata": {},
     "output_type": "execute_result"
    }
   ],
   "source": [
    "text_data.Sentiment.unique()"
   ]
  },
  {
   "cell_type": "code",
   "execution_count": 12,
   "metadata": {},
   "outputs": [
    {
     "data": {
      "text/plain": [
       "(4768, 2)"
      ]
     },
     "execution_count": 12,
     "metadata": {},
     "output_type": "execute_result"
    }
   ],
   "source": [
    "text_data.shape"
   ]
  },
  {
   "cell_type": "code",
   "execution_count": 13,
   "metadata": {},
   "outputs": [
    {
     "data": {
      "text/plain": [
       "Review_Text    1\n",
       "Sentiment      2\n",
       "dtype: int64"
      ]
     },
     "execution_count": 13,
     "metadata": {},
     "output_type": "execute_result"
    }
   ],
   "source": [
    "text_data.isna().sum(axis=0)"
   ]
  },
  {
   "cell_type": "code",
   "execution_count": 14,
   "metadata": {},
   "outputs": [],
   "source": [
    "text_data1 = text_data[text_data['Sentiment']=='1']\n",
    "text_data2 = text_data[text_data['Sentiment']=='2']\n",
    "text_data3 = text_data[text_data['Sentiment']=='3']"
   ]
  },
  {
   "cell_type": "code",
   "execution_count": 15,
   "metadata": {},
   "outputs": [],
   "source": [
    "text_data =  pd.concat([text_data1,text_data2,text_data3])"
   ]
  },
  {
   "cell_type": "code",
   "execution_count": 16,
   "metadata": {},
   "outputs": [
    {
     "data": {
      "text/html": [
       "<div>\n",
       "<style scoped>\n",
       "    .dataframe tbody tr th:only-of-type {\n",
       "        vertical-align: middle;\n",
       "    }\n",
       "\n",
       "    .dataframe tbody tr th {\n",
       "        vertical-align: top;\n",
       "    }\n",
       "\n",
       "    .dataframe thead th {\n",
       "        text-align: right;\n",
       "    }\n",
       "</style>\n",
       "<table border=\"1\" class=\"dataframe\">\n",
       "  <thead>\n",
       "    <tr style=\"text-align: right;\">\n",
       "      <th></th>\n",
       "      <th>Review_Text</th>\n",
       "      <th>Sentiment</th>\n",
       "    </tr>\n",
       "  </thead>\n",
       "  <tbody>\n",
       "    <tr>\n",
       "      <th>1</th>\n",
       "      <td>It seems that hotel does not check the basic a...</td>\n",
       "      <td>1</td>\n",
       "    </tr>\n",
       "    <tr>\n",
       "      <th>2</th>\n",
       "      <td>Worst hotel I have ever encountered. I will ne...</td>\n",
       "      <td>1</td>\n",
       "    </tr>\n",
       "    <tr>\n",
       "      <th>38</th>\n",
       "      <td>Check in took more then 45 mins, all the 4 pil...</td>\n",
       "      <td>1</td>\n",
       "    </tr>\n",
       "    <tr>\n",
       "      <th>41</th>\n",
       "      <td>This property is a bit old. Bath tub, toilets ...</td>\n",
       "      <td>1</td>\n",
       "    </tr>\n",
       "    <tr>\n",
       "      <th>42</th>\n",
       "      <td>The hotel rooms are quite old and are not main...</td>\n",
       "      <td>1</td>\n",
       "    </tr>\n",
       "  </tbody>\n",
       "</table>\n",
       "</div>"
      ],
      "text/plain": [
       "                                          Review_Text Sentiment\n",
       "1   It seems that hotel does not check the basic a...         1\n",
       "2   Worst hotel I have ever encountered. I will ne...         1\n",
       "38  Check in took more then 45 mins, all the 4 pil...         1\n",
       "41  This property is a bit old. Bath tub, toilets ...         1\n",
       "42  The hotel rooms are quite old and are not main...         1"
      ]
     },
     "execution_count": 16,
     "metadata": {},
     "output_type": "execute_result"
    }
   ],
   "source": [
    "text_data.head()"
   ]
  },
  {
   "cell_type": "code",
   "execution_count": 17,
   "metadata": {},
   "outputs": [
    {
     "data": {
      "text/plain": [
       "array(['1', '2', '3'], dtype=object)"
      ]
     },
     "execution_count": 17,
     "metadata": {},
     "output_type": "execute_result"
    }
   ],
   "source": [
    "text_data['Sentiment'].unique()"
   ]
  },
  {
   "cell_type": "code",
   "execution_count": 18,
   "metadata": {},
   "outputs": [],
   "source": [
    "import seaborn as sns"
   ]
  },
  {
   "cell_type": "code",
   "execution_count": 19,
   "metadata": {},
   "outputs": [
    {
     "data": {
      "text/plain": [
       "<matplotlib.axes._subplots.AxesSubplot at 0x1f6c6268198>"
      ]
     },
     "execution_count": 19,
     "metadata": {},
     "output_type": "execute_result"
    },
    {
     "data": {
      "image/png": "[encoded data removed]",
      "text/plain": [
       "<Figure size 432x288 with 1 Axes>"
      ]
     },
     "metadata": {
      "needs_background": "light"
     },
     "output_type": "display_data"
    }
   ],
   "source": [
    "sns.countplot(x='Sentiment',data=text_data)"
   ]
  },
  {
   "cell_type": "code",
   "execution_count": 20,
   "metadata": {},
   "outputs": [
    {
     "data": {
      "text/plain": [
       "Review_Text    0\n",
       "Sentiment      0\n",
       "dtype: int64"
      ]
     },
     "execution_count": 20,
     "metadata": {},
     "output_type": "execute_result"
    }
   ],
   "source": [
    "text_data.isna().sum(axis=0)"
   ]
  },
  {
   "cell_type": "code",
   "execution_count": 21,
   "metadata": {},
   "outputs": [
    {
     "data": {
      "text/plain": [
       "(4703, 2)"
      ]
     },
     "execution_count": 21,
     "metadata": {},
     "output_type": "execute_result"
    }
   ],
   "source": [
    "text_data.shape\n"
   ]
  },
  {
   "cell_type": "code",
   "execution_count": 22,
   "metadata": {},
   "outputs": [],
   "source": [
    "for i in range(len(text_data)):\n",
    "    if text_data.iloc[i].Sentiment=='2':\n",
    "        text_data.iloc[i].Sentiment='1'"
   ]
  },
  {
   "cell_type": "code",
   "execution_count": 23,
   "metadata": {},
   "outputs": [
    {
     "data": {
      "text/plain": [
       "<matplotlib.axes._subplots.AxesSubplot at 0x1f6c83187b8>"
      ]
     },
     "execution_count": 23,
     "metadata": {},
     "output_type": "execute_result"
    },
    {
     "data": {
      "image/png": "[encoded data removed]",
      "text/plain": [
       "<Figure size 432x288 with 1 Axes>"
      ]
     },
     "metadata": {
      "needs_background": "light"
     },
     "output_type": "display_data"
    }
   ],
   "source": [
    "sns.countplot(x='Sentiment',data=text_data)"
   ]
  },
  {
   "cell_type": "code",
   "execution_count": 24,
   "metadata": {},
   "outputs": [],
   "source": [
    "for i in range(len(text_data)):\n",
    "    if text_data.iloc[i].Sentiment == '3':\n",
    "        text_data.iloc[i].Sentiment = 1\n",
    "    else:\n",
    "        text_data.iloc[i].Sentiment = 0"
   ]
  },
  {
   "cell_type": "markdown",
   "metadata": {},
   "source": [
    "\n",
    "<b> Here we are changing the reviews as negative and positive sentiment as 0 and 1.</b>\n",
    "\n",
    "<b> Here we can see that negative reviews are less in number but positive reviews are more.</b>"
   ]
  },
  {
   "cell_type": "code",
   "execution_count": 25,
   "metadata": {},
   "outputs": [
    {
     "data": {
      "text/plain": [
       "<matplotlib.axes._subplots.AxesSubplot at 0x1f6c8369dd8>"
      ]
     },
     "execution_count": 25,
     "metadata": {},
     "output_type": "execute_result"
    },
    {
     "data": {
      "image/png": "[encoded data removed]",
      "text/plain": [
       "<Figure size 432x288 with 1 Axes>"
      ]
     },
     "metadata": {
      "needs_background": "light"
     },
     "output_type": "display_data"
    }
   ],
   "source": [
    "sns.countplot(x='Sentiment',data=text_data)"
   ]
  },
  {
   "cell_type": "markdown",
   "metadata": {},
   "source": [
    "# Now Check The Review"
   ]
  },
  {
   "cell_type": "code",
   "execution_count": 26,
   "metadata": {},
   "outputs": [
    {
     "data": {
      "text/plain": [
       "'The hotel rooms are quite old and are not maintained. The chair cushion was torn. Shower curtains, window curtains and even the phone had a musty smell. Wait at the reception was too long. \\nBreakfast was decent. Location is very good for US visa applicants.'"
      ]
     },
     "execution_count": 26,
     "metadata": {},
     "output_type": "execute_result"
    }
   ],
   "source": [
    "text_data.iloc[4].Review_Text"
   ]
  },
  {
   "cell_type": "markdown",
   "metadata": {},
   "source": [
    "## Now Preprocessing The Review\n"
   ]
  },
  {
   "cell_type": "code",
   "execution_count": 27,
   "metadata": {},
   "outputs": [],
   "source": [
    "import re"
   ]
  },
  {
   "cell_type": "code",
   "execution_count": 28,
   "metadata": {},
   "outputs": [],
   "source": [
    "for i in range(len(text_data)):\n",
    "    x = text_data.iloc[i].Review_Text\n",
    "    x = re.sub(r'https:\\/\\/[a-zA-Z]*\\.com',' ',x)\n",
    "    x = re.sub(r'\\W+',' ',x)\n",
    "    x = re.sub(r'\\d+',' ',x)\n",
    "    x = re.sub(r'^\\s+','',x)\n",
    "    x = re.sub(r'\\s+$','',x)\n",
    "    x = re.sub(r'\\s+',' ',x)\n",
    "    x = x.lower()\n",
    "    text_data.iloc[i].Review_Text = x"
   ]
  },
  {
   "cell_type": "code",
   "execution_count": 29,
   "metadata": {},
   "outputs": [
    {
     "data": {
      "text/plain": [
       "'the hotel rooms are quite old and are not maintained the chair cushion was torn shower curtains window curtains and even the phone had a musty smell wait at the reception was too long breakfast was decent location is very good for us visa applicants'"
      ]
     },
     "execution_count": 29,
     "metadata": {},
     "output_type": "execute_result"
    }
   ],
   "source": [
    "text_data.iloc[4].Review_Text"
   ]
  },
  {
   "cell_type": "code",
   "execution_count": 30,
   "metadata": {},
   "outputs": [],
   "source": [
    "import numpy as np\n",
    "from sklearn.model_selection import train_test_split"
   ]
  },
  {
   "cell_type": "markdown",
   "metadata": {},
   "source": [
    "# Vectorization"
   ]
  },
  {
   "cell_type": "code",
   "execution_count": 31,
   "metadata": {},
   "outputs": [
    {
     "data": {
      "text/plain": [
       "CountVectorizer(analyzer='word', binary=False, decode_error='strict',\n",
       "                dtype=<class 'numpy.int64'>, encoding='utf-8', input='content',\n",
       "                lowercase=True, max_df=1.0, max_features=None, min_df=1,\n",
       "                ngram_range=(1, 1), preprocessor=None, stop_words=None,\n",
       "                strip_accents=None, token_pattern='(?u)\\\\b\\\\w\\\\w+\\\\b',\n",
       "                tokenizer=None, vocabulary=None)"
      ]
     },
     "execution_count": 31,
     "metadata": {},
     "output_type": "execute_result"
    }
   ],
   "source": [
    "from sklearn.feature_extraction.text import CountVectorizer\n",
    "vectorizer = CountVectorizer()\n",
    "vectorizer.fit(text_data.Review_Text)"
   ]
  },
  {
   "cell_type": "code",
   "execution_count": 32,
   "metadata": {},
   "outputs": [
    {
     "name": "stdout",
     "output_type": "stream",
     "text": [
      "['__nothing__', 'aaa', 'aadithya', 'aap', 'abdul', 'abhay', 'able', 'abnormally', 'aboarding', 'abode', 'about', 'above', 'abreast', 'abroad', 'absence', 'absolute', 'absolutely', 'abu', 'abundant', 'abut', 'abutting', 'ac', 'accept', 'acceptable', 'accepted', 'access', 'accessed', 'accessibility', 'accessible', 'accessories', 'accidental', 'acclaim', 'accomadating', 'accomadative', 'accommodate', 'accommodated', 'accommodating', 'accommodation', 'accommodations', 'accomodate', 'accomodating', 'accomodations', 'accomodative', 'accompanying', 'accord', 'according', 'accordingly', 'account', 'accurate', 'acessosiries', 'acha', 'acharya', 'achi', 'achieved', 'acknowledge', 'acknowledging', 'acold', 'across', 'acting', 'action', 'activated', 'active', 'activities', 'activity', 'actors', 'actresses', 'actual', 'actuality', 'actually', 'adaptable', 'add', 'addams', 'added', 'adding', 'addition', 'additional', 'additives', 'addres', 'address', 'adequate', 'adequately', 'adgghhhhhhhhhjjjjjjjjjjjjkkllkjhhhhjjhjjjjjjjjjjjjjhhbbhjjjjj', 'adjacent', 'adjoining', 'adjust', 'adjustable', 'adjusted', 'adjustment', 'admirable', 'admission', 'admit', 'admits', 'admitted', 'adorable', 'adults', 'adusted', 'adv', 'advance', 'advantage', 'advantages', 'advertise', 'advertised', 'advertises', 'advertising', 'advice', 'advisable', 'advise', 'advising', 'advisor', 'adyar', 'affable', 'affecting', 'afford', 'affordable', 'afresh', 'after', 'afternoon', 'afterward', 'again', 'against', 'age', 'agency', 'agent', 'agents', 'aggressive', 'agile', 'aging', 'ago', 'agree', 'agreed', 'ahead', 'aided', 'aim', 'aint', 'air', 'aircon', 'aircondition', 'airconditioned', 'aircraft', 'airport', 'airpot', 'airy', 'aishwarya', 'akash', 'akshay', 'akum', 'ala', 'alag', 'alarm', 'albeit', 'alcohol', 'alcoholic', 'aldo', 'ali', 'all', 'allergic', 'alley', 'allignments', 'allocate', 'allocated', 'allocating', 'allot', 'alloted', 'allotment', 'allotted', 'allow', 'allowance', 'allowed', 'allowing', 'allows', 'allway', 'almost', 'aloft', 'alone', 'along', 'aloo', 'alot', 'already', 'alright', 'also', 'alsone', 'alteration', 'alternate', 'alternative', 'alternatively', 'although', 'altogether', 'alwarpet', 'always', 'am', 'amabiance', 'amaze', 'amazing', 'amazingly', 'ambassador', 'ambiance', 'ambica', 'ambience', 'ambient', 'amd', 'amended', 'amenities', 'amenity', 'amentities', 'american', 'amesing', 'amibience', 'aminities', 'ammenities', 'amneties', 'among', 'amount', 'ampa', 'ample', 'amrita', 'amt', 'amusement', 'an', 'ana', 'anand', 'ananda', 'ancient', 'and', 'andexperience', 'andhra', 'anfood', 'anita', 'anna', 'annals', 'annapurna', 'anniversary', 'announced', 'annoyed', 'annoying', 'annoys', 'another', 'anouther', 'answer', 'answered', 'answering', 'antastic', 'anthapuram', 'anti', 'anu', 'any', 'anybody', 'anymore', 'anyone', 'anyother', 'anything', 'anytime', 'anyway', 'anyways', 'anywhere', 'apart', 'apartment', 'apartments', 'apollo', 'apologized', 'app', 'apparently', 'appasamy', 'appeal', 'appealing', 'appear', 'appearance', 'appearances', 'appeared', 'appearence', 'appears', 'apperance', 'apperancewas', 'appetite', 'appliances', 'applicable', 'applicants', 'application', 'applied', 'appllo', 'appointed', 'appointment', 'appointments', 'appraise', 'appreciable', 'appreciate', 'appreciated', 'appreciation', 'apprehensive', 'appreiance', 'approach', 'approachable', 'approacheable', 'approaching', 'appropriate', 'appropriately', 'approve', 'approved', 'approx', 'april', 'apt', 'arcot', 'are', 'area', 'areas', 'aree', 'aren', 'argued', 'argues', 'argument', 'arguments', 'ariyas', 'army', 'aroma', 'arose', 'around', 'arragant', 'arrange', 'arranged', 'arrangement', 'arrangements', 'arranging', 'arrival', 'arrived', 'arriving', 'arrogant', 'arrogantly', 'arrogent', 'art', 'artefacts', 'arterial', 'articles', 'artistic', 'aryaas', 'as', 'asap', 'ascenda', 'ascendas', 'ashima', 'ashok', 'asian', 'asiana', 'ask', 'asked', 'asking', 'asko', 'aspect', 'aspects', 'aspni', 'assemble', 'asset', 'assigned', 'assignments', 'assist', 'assistance', 'assistant', 'assisted', 'assisting', 'associate', 'associates', 'assured', 'at', 'atchaya', 'ate', 'aticate', 'atleast', 'atleat', 'atm', 'atmosphere', 'atmost', 'atms', 'attached', 'attainable', 'attend', 'attendants', 'attended', 'attenders', 'attending', 'attends', 'attention', 'attentive', 'attitude', 'attract', 'attracted', 'attracting', 'attraction', 'attractions', 'attractive', 'attracts', 'attrition', 'auberge', 'audible', 'audio', 'august', 'aunt', 'auper', 'auspicious', 'authentic', 'authorities', 'authority', 'auto', 'automatically', 'automotive', 'autos', 'ava', 'avadi', 'avail', 'availability', 'available', 'availed', 'avaliable', 'avant', 'avenue', 'avenues', 'average', 'averge', 'avliable', 'avnb', 'avoid', 'avoided', 'avoiding', 'awaiting', 'awake', 'awarded', 'aware', 'away', 'awesome', 'awful', 'awhile', 'awk', 'awkwardly', 'awsm', 'awsome', 'awsum', 'awuaguard', 'axial', 'aya', 'ayooo', 'ayurvedic', 'ayyappa', 'baby', 'bachelor', 'back', 'backdrops', 'backpacker', 'backpackers', 'backs', 'backup', 'backups', 'backward', 'backwards', 'bad', 'bada', 'badhiya', 'badly', 'bady', 'bag', 'baggage', 'bags', 'bahoth', 'bahut', 'bakwaas', 'bakwass', 'bakwassssssssssssssssssssssss', 'balaji', 'balance', 'balconies', 'balcony', 'bali', 'ball', 'ballroom', 'ban', 'banate', 'bandwidth', 'bang', 'bangalore', 'banks', 'banquet', 'bappa', 'bar', 'barbeque', 'bare', 'barely', 'bargain', 'barking', 'barrier', 'barrings', 'bars', 'bas', 'base', 'based', 'basement', 'basic', 'basically', 'basics', 'basin', 'basis', 'batch', 'bath', 'bathe', 'bathing', 'bathoom', 'bathroom', 'bathrooms', 'bathrum', 'bathtub', 'bazaar', 'bazar', 'bazzar', 'bbbbbbnnnnnnnnnnnnnn', 'bbq', 'bcos', 'bcr', 'be', 'beach', 'beaches', 'bear', 'bearable', 'bearkfast', 'beast', 'beat', 'beautiful', 'beautifull', 'beautifully', 'beauty', 'beautyfull', 'became', 'because', 'becaz', 'become', 'becuz', 'bed', 'bedbug', 'bedbugs', 'bedded', 'bedding', 'bedlinen', 'bedroom', 'bedrooms', 'beds', 'bedsheet', 'bedsheets', 'bedspread', 'bedspreads', 'been', 'beer', 'before', 'beforehand', 'beggars', 'beginning', 'behave', 'behaved', 'behaving', 'behavior', 'behaviour', 'behaviours', 'beheabed', 'behind', 'beimproved', 'being', 'believe', 'bell', 'belly', 'belongings', 'belongs', 'below', 'benches', 'benefit', 'benefits', 'bengali', 'bent', 'benzz', 'berries', 'besant', 'beside', 'besides', 'best', 'bestgood', 'betraying', 'better', 'betterhalf', 'between', 'beverage', 'beverages', 'beware', 'beyond', 'bgytiugyd', 'bhavan', 'bhawan', 'bhi', 'bhiguytvdttivyugoubig', 'bhimtal', 'bhujc', 'big', 'bigger', 'biggest', 'bike', 'bill', 'billed', 'billing', 'bills', 'bin', 'bingers', 'bio', 'biometric', 'biometrics', 'bird', 'birds', 'biriyani', 'birthday', 'biryani', 'bit', 'bites', 'bitten', 'bitter', 'biugfvy', 'biugt', 'biz', 'bizarre', 'bkfst', 'bkhkhjuoipoioioi', 'bkr', 'black', 'blah', 'blamed', 'blank', 'blanket', 'blankets', 'bleach', 'blend', 'bless', 'blini', 'block', 'blossom', 'blowing', 'blu', 'bluten', 'bn', 'board', 'boarding', 'boards', 'boast', 'boating', 'bodhi', 'bodied', 'body', 'bogan', 'boggling', 'boiled', 'bollywood', 'bombayish', 'bone', 'bonus', 'boo', 'book', 'bookable', 'booked', 'booking', 'bookings', 'books', 'boon', 'boor', 'bored', 'boring', 'born', 'boss', 'bot', 'both', 'bother', 'bothered', 'bothering', 'bothers', 'bottel', 'bottle', 'bottled', 'bottles', 'bottom', 'bought', 'bound', 'bountiful', 'bout', 'boutique', 'bowl', 'bowls', 'box', 'boxes', 'boy', 'boys', 'brake', 'branch', 'brand', 'branded', 'brazen', 'breackfast', 'bread', 'breads', 'break', 'breakfast', 'breakfasts', 'breakfest', 'breaking', 'breautiful', 'breez', 'breeze', 'brick', 'bridges', 'brief', 'briefing', 'bright', 'brighter', 'brilliant', 'bring', 'brings', 'bro', 'brochure', 'broken', 'brother', 'brothers', 'brought', 'brown', 'brownstar', 'brush', 'brusque', 'bt', 'buckden', 'bucket', 'buckets', 'bucks', 'buddy', 'budget', 'budgetary', 'budgeted', 'buffe', 'buffet', 'buffets', 'bug', 'buggs', 'buggy', 'bugs', 'buhari', 'build', 'builder', 'building', 'buildings', 'built', 'bulb', 'bulbs', 'bulding', 'bulk', 'bundle', 'bungalow', 'bunkum', 'bunny', 'burn', 'burp', 'bus', 'buses', 'busiest', 'business', 'businesses', 'businesswomen', 'busstand', 'bust', 'bustle', 'bustles', 'bustling', 'busy', 'but', 'butler', 'butlers', 'buy', 'buzy', 'buzzzzy', 'by', 'bye', 'cab', 'cable', 'cabs', 'cafe', 'cafeteria', 'cake', 'cal', 'call', 'called', 'calling', 'calls', 'calm', 'calmness', 'came', 'camera', 'camp', 'campus', 'can', 'cancel', 'cancellation', 'candle', 'cannot', 'cans', 'cant', 'canteen', 'capacity', 'capital', 'capitalized', 'cappuccino', 'capsule', 'captures', 'car', 'card', 'cards', 'care', 'cared', 'careful', 'carefully', 'careless', 'careness', 'cares', 'caretaker', 'caring', 'carnatic', 'carom', 'carpentry', 'carpet', 'carried', 'carry', 'carrying', 'cars', 'carta', 'carte', 'cartered', 'case', 'cases', 'cash', 'casino', 'cast', 'casual', 'cat', 'catch', 'catching', 'catchy', 'categorey', 'categories', 'category', 'cater', 'catered', 'caters', 'cathedral', 'catholic', 'caulking', 'cause', 'caused', 'causes', 'caution', 'cautious', 'caviar', 'cctv', 'ceiling', 'celebrate', 'celebrated', 'celebrating', 'celebration', 'celine', 'cellphone', 'center', 'centers', 'centigrade', 'centinal', 'central', 'centralised', 'centralized', 'centrally', 'centre', 'centres', 'centric', 'centtally', 'cereals', 'certain', 'certainly', 'chai', 'chain', 'chains', 'chair', 'chairs', 'challenge', 'challenged', 'challenges', 'challenging', 'chalukya', 'chamber', 'chance', 'chances', 'chandra', 'change', 'changed', 'changes', 'changing', 'channai', 'channel', 'channels', 'chaotic', 'chaplin', 'character', 'characterslocation', 'charge', 'chargeable', 'charged', 'charger', 'chargers', 'charges', 'charging', 'charm', 'charming', 'chase', 'chatram', 'chauffeur', 'cheap', 'cheaper', 'cheapest', 'cheated', 'cheaters', 'cheating', 'check', 'checked', 'checkers', 'checkin', 'checking', 'checkout', 'cheers', 'chef', 'chefs', 'chemicals', 'chennai', 'chennei', 'chepauk', 'cherish', 'chetpet', 'chettle', 'chetty', 'chi', 'chic', 'chicago', 'chichester', 'chicken', 'chidambaram', 'chief', 'child', 'children', 'chill', 'chilli', 'chillout', 'china', 'chinese', 'chlorine', 'choc', 'choice', 'choices', 'chola', 'choose', 'choosed', 'choosing', 'chops', 'chose', 'chosen', 'chromepet', 'chugging', 'chung', 'church', 'chutney', 'ciel', 'cifbiuweef', 'cigarette', 'cigarettes', 'cinema', 'cineplex', 'circa', 'circle', 'circulation', 'circumstances', 'ciskei', 'citing', 'city', 'cl', 'claim', 'claims', 'clarified', 'clarify', 'clarity', 'clarks', 'class', 'classic', 'classical', 'classically', 'classify', 'classy', 'clauset', 'cleam', 'clean', 'cleaned', 'cleaner', 'cleaniness', 'cleaning', 'cleanlier', 'cleanliness', 'cleanly', 'cleanness', 'clear', 'clearance', 'cleared', 'clearer', 'clearing', 'clearly', 'cleartrip', 'client', 'clientel', 'clients', 'climate', 'climb', 'clinch', 'clock', 'clogged', 'close', 'closeby', 'closed', 'closeness', 'closer', 'closet', 'closing', 'cloth', 'clothes', 'cloud', 'cloudy', 'club', 'clumsy', 'cluttered', 'cm', 'cnt', 'co', 'coach', 'coaches', 'coast', 'cockroach', 'cockroaches', 'cockroch', 'cocorach', 'code', 'coffee', 'coincided', 'cointreau', 'colar', 'cold', 'colder', 'collapse', 'colleague', 'colleagues', 'collect', 'collected', 'collecting', 'collection', 'college', 'colleges', 'colombo', 'colonies', 'colony', 'colour', 'coloured', 'colours', 'colse', 'com', 'comb', 'combo', 'combos', 'come', 'comeback', 'comes', 'comfatebel', 'comfort', 'comfortability', 'comfortable', 'comfortableness', 'comfortably', 'comforteble', 'comforts', 'comfy', 'coming', 'comission', 'command', 'commendable', 'commensurating', 'comment', 'comments', 'commercial', 'commission', 'commissioner', 'commit', 'commitments', 'committed', 'commode', 'commodes', 'common', 'commune', 'communicate', 'communication', 'communicative', 'community', 'commute', 'commuters', 'commuting', 'comn', 'compact', 'companies', 'company', 'comparable', 'comparative', 'comparatively', 'compare', 'compared', 'comparing', 'comparison', 'compatible', 'compensate', 'compete', 'competent', 'competition', 'competitive', 'complain', 'complained', 'complaining', 'complaint', 'complaints', 'complement', 'complementaries', 'complementary', 'complete', 'completely', 'complex', 'complexes', 'compliment', 'complimentary', 'complimentery', 'compliments', 'complimetary', 'compound', 'comprehensive', 'comprise', 'compromise', 'computer', 'computers', 'con', 'conceal', 'concentrate', 'concept', 'concern', 'concerned', 'concerns', 'concession', 'concierge', 'concieriege', 'conclude', 'conclusion', 'concrete', 'condition', 'conditioned', 'conditioner', 'conditioners', 'conditioning', 'conditions', 'condo', 'conducive', 'conduct', 'conducted', 'conference', 'confirm', 'confirmation', 'confirmed', 'confirming', 'conformation', 'confronted', 'confusing', 'confusion', 'congenial', 'congested', 'congestion', 'congratulate', 'conjuncted', 'conjusted', 'connect', 'connected', 'connecting', 'connection', 'connections', 'connectivity', 'connectiviy', 'cons', 'conscious', 'consecutive', 'consider', 'considerably', 'considerate', 'consideration', 'considered', 'considering', 'consists', 'consolate', 'consolation', 'consolute', 'constant', 'constraint', 'constructed', 'construction', 'consulate', 'consumer', 'consuming', 'contact', 'contacted', 'contained', 'contains', 'content', 'contents', 'continence', 'continental', 'continue', 'continues', 'continuously', 'contiunue', 'contracted', 'contrary', 'control', 'controlled', 'controller', 'convenience', 'conveniences', 'convenient', 'conveniently', 'convention', 'conversation', 'conversing', 'conversion', 'converted', 'convey', 'conveyance', 'conveyence', 'convient', 'convinient', 'convocation', 'coo', 'coofrmndh', 'cook', 'cooked', 'cookies', 'cooking', 'cool', 'cooler', 'cooling', 'cooperate', 'cooperated', 'cooperation', 'cooperative', 'coordination', 'coorg', 'coprative', 'cordial', 'cordiality', 'core', 'corner', 'corporate', 'correct', 'corrected', 'correctly', 'corridor', 'corridors', 'corrosive', 'cost', 'costlier', 'costly', 'costs', 'costwise', 'cosy', 'cot', 'cots', 'cottage', 'couch', 'could', 'couldn', 'couldnot', 'couldve', 'counter', 'counters', 'countries', 'country', 'coup', 'couple', 'couples', 'coupon', 'course', 'court', 'courteous', 'courteously', 'courtesy', 'courtious', 'courtyard', 'courtyards', 'cousin', 'cover', 'coverage', 'covered', 'covers', 'coz', 'cozy', 'cozying', 'cracked', 'cradle', 'cramped', 'crappy', 'crash', 'crazy', 'create', 'created', 'creates', 'creating', 'creative', 'creatively', 'creatures', 'credentials', 'credit', 'creepy', 'crescent', 'crest', 'crew', 'cribbing', 'cricket', 'crisis', 'crisp', 'crispy', 'crockery', 'crocodile', 'cross', 'crossing', 'croudy', 'crowd', 'crowded', 'crowds', 'crt', 'crudely', 'crumbling', 'crunch', 'crystal', 'cse', 'ctc', 'cud', 'cuisine', 'cuisines', 'cult', 'cultural', 'culturally', 'culture', 'cumbersome', 'cup', 'cupboard', 'cupboards', 'cups', 'curd', 'curious', 'currency', 'current', 'currently', 'curries', 'curry', 'curtain', 'curtains', 'curtesy', 'curved', 'cushion', 'customer', 'customers', 'cut', 'cuts', 'cvpisfivfsgfofgfogfaomfmgoimfdogfdogfdojgofjdgjfajgfisjgmfvkmfkdmvfmgifmgiofamvmf', 'cyclone', 'cyst', 'dad', 'daily', 'dakshin', 'dal', 'damage', 'damaged', 'damn', 'damp', 'dampener', 'dampness', 'dance', 'dangerous', 'dared', 'dark', 'darshan', 'das', 'daskfkds', 'data', 'date', 'dated', 'daughter', 'daughters', 'david', 'day', 'days', 'dbm', 'ddont', 'de', 'dead', 'deaf', 'deal', 'dealing', 'deals', 'dealt', 'dear', 'decades', 'deccan', 'deceiving', 'december', 'decent', 'decently', 'decide', 'decided', 'decision', 'decisions', 'decor', 'decorate', 'decorated', 'decoration', 'decorations', 'decorative', 'decorum', 'dedication', 'deductions', 'deep', 'def', 'default', 'defective', 'defiantly', 'deficiencies', 'deficiency', 'definately', 'definitely', 'definition', 'definitley', 'defo', 'degree', 'dehumidification', 'dekhne', 'delay', 'delayed', 'delete', 'delhi', 'delicacies', 'delicate', 'delicious', 'delight', 'delighted', 'delightful', 'delist', 'deliver', 'delivered', 'delivery', 'deluxe', 'demagnetised', 'demand', 'demanded', 'demands', 'demonetisation', 'denied', 'dent', 'dental', 'depart', 'departed', 'department', 'departure', 'depend', 'depending', 'depends', 'depo', 'deposit', 'depot', 'depreciated', 'depressing', 'dept', 'der', 'descent', 'describe', 'described', 'description', 'deserts', 'deserve', 'deserves', 'deshna', 'design', 'designed', 'desire', 'desired', 'desirous', 'desk', 'desolate', 'despite', 'desserts', 'destination', 'destinations', 'detail', 'details', 'dete', 'detract', 'devastated', 'develop', 'developed', 'developing', 'developments', 'device', 'devices', 'dhaba', 'dhak', 'dhik', 'dhikhaya', 'dhoni', 'dialiing', 'diamond', 'did', 'didi', 'didn', 'didnot', 'didnt', 'die', 'diffen', 'diffent', 'difference', 'different', 'differently', 'difficilty', 'difficult', 'difficulty', 'diffrent', 'digoxin', 'dilapidated', 'dim', 'dimly', 'din', 'dine', 'dinesh', 'dingy', 'dining', 'dinner', 'dinners', 'dinning', 'dint', 'dion', 'dipped', 'dipsomaniacs', 'direct', 'direction', 'directions', 'directly', 'directory', 'dirt', 'dirty', 'dis', 'disadvantage', 'disadvantages', 'disappoint', 'disappointed', 'disappointing', 'disappointment', 'disaster', 'discerning', 'discipline', 'disciplined', 'disco', 'discoloration', 'discomfort', 'disconnected', 'disconnects', 'discontinue', 'discount', 'discounted', 'discounts', 'discover', 'discovered', 'discrimination', 'discuss', 'discussion', 'disgrace', 'disgusted', 'disgusting', 'dish', 'dishes', 'dishs', 'disillusioned', 'disk', 'dismay', 'disorienting', 'display', 'displaying', 'disrepair', 'disruption', 'dissapointed', 'dissocial', 'dist', 'distance', 'distant', 'district', 'distupe', 'disturb', 'disturbance', 'disturbances', 'disturbed', 'disturbing', 'disturbs', 'diverse', 'diversity', 'dj', 'dlskf', 'dmv', 'dne', 'do', 'doctored', 'dod', 'dodgy', 'does', 'doesn', 'doesnt', 'dogfishes', 'dogs', 'doing', 'dolphin', 'dolpin', 'domestic', 'domino', 'dominos', 'don', 'done', 'donot', 'dont', 'donts', 'door', 'doorknob', 'doorman', 'doors', 'doric', 'dormitory', 'dos', 'dosa', 'dosai', 'dosas', 'dot', 'double', 'doubt', 'doubts', 'down', 'downgrade', 'downing', 'downside', 'downstairs', 'dozen', 'dozens', 'dp', 'drain', 'drainage', 'drastically', 'draw', 'drawback', 'draws', 'dream', 'dreem', 'dress', 'dressed', 'dresses', 'drew', 'drilling', 'drink', 'drinking', 'drinks', 'drip', 'dripped', 'dripping', 'drive', 'driver', 'drivers', 'drnk', 'drop', 'droplets', 'dropoff', 'dropped', 'dropping', 'drugged', 'drunk', 'dry', 'dryer', 'drying', 'dslkfdskf', 'dth', 'due', 'dull', 'dullness', 'dum', 'dumb', 'dumbbells', 'dungeon', 'duration', 'during', 'durty', 'dust', 'dustbin', 'dustbins', 'dusted', 'dusty', 'duties', 'duty', 'duvet', 'ea', 'each', 'eagerness', 'ear', 'earlier', 'early', 'earn', 'earned', 'earth', 'ease', 'easier', 'easily', 'east', 'eastwood', 'eastwoods', 'easy', 'eat', 'eaten', 'eateries', 'eaters', 'eating', 'economic', 'economical', 'economically', 'economy', 'ecr', 'ect', 'ed', 'edges', 'educate', 'educated', 'eeating', 'eeeeeeeeeeeee', 'effecient', 'effect', 'effective', 'effectively', 'efficiency', 'efficient', 'efficiently', 'effort', 'efforts', 'eg', 'egg', 'egmore', 'either', 'ek', 'ekaana', 'ekdum', 'elaborate', 'eld', 'elderly', 'electric', 'electrical', 'electricity', 'elegance', 'elegant', 'elephant', 'elephants', 'elevator', 'elevators', 'eloquent', 'else', 'elsewhere', 'email', 'emails', 'emarald', 'embassy', 'emergency', 'empathy', 'employee', 'employees', 'empty', 'enabled', 'enactment', 'enclosed', 'enclosure', 'enclosures', 'encountered', 'encouragement', 'end', 'ended', 'ends', 'energy', 'engagement', 'engineering', 'english', 'enhance', 'enhanced', 'enjoy', 'enjoyable', 'enjoyd', 'enjoyed', 'enjoying', 'enjoyment', 'enough', 'enquiry', 'ensure', 'ensured', 'enter', 'entered', 'entering', 'entertain', 'entertained', 'entertaining', 'entertainment', 'enthusiastic', 'enthusiasts', 'entire', 'entirely', 'entrainment', 'entrance', 'entry', 'enumerate', 'environ', 'environment', 'eod', 'epdi', 'equally', 'equipment', 'equipments', 'equipped', 'errand', 'erratic', 'errors', 'ertswhile', 'erupted', 'es', 'escaped', 'escort', 'esenin', 'especially', 'essential', 'essentially', 'essentials', 'etc', 'ethics', 'etiquettes', 'evaluate', 'even', 'evening', 'evenings', 'event', 'eventhough', 'events', 'ever', 'every', 'everybody', 'everyday', 'everyone', 'everything', 'everytime', 'everywhere', 'evident', 'evneing', 'evp', 'evreything', 'ex', 'exact', 'exacting', 'exactly', 'exaggerated', 'exam', 'example', 'excalat', 'excalet', 'exceeded', 'excellant', 'excelled', 'excellence', 'excellent', 'excellently', 'except', 'exception', 'exceptional', 'excessively', 'exchange', 'exchanged', 'excited', 'excitement', 'exciting', 'excluding', 'exclusively', 'excuse', 'excused', 'executed', 'executive', 'executives', 'exelent', 'exemplary', 'exercise', 'exhaust', 'exhibit', 'exhibition', 'exist', 'existent', 'existing', 'exists', 'exit', 'exp', 'expand', 'expanded', 'expect', 'expectation', 'expectations', 'expected', 'expecting', 'expects', 'expedia', 'expense', 'expenses', 'expensive', 'experiance', 'experience', 'experienced', 'experiences', 'experince', 'expired', 'explain', 'explained', 'explanation', 'explore', 'exploring', 'express', 'expressed', 'expressway', 'exprience', 'exquisite', 'extend', 'extended', 'extension', 'extensive', 'exterior', 'exteriors', 'external', 'extra', 'extract', 'extraordinary', 'extras', 'extreme', 'extremely', 'faar', 'fab', 'fabindia', 'fabulous', 'face', 'faced', 'facelift', 'faces', 'facilities', 'facility', 'facing', 'fact', 'factor', 'factory', 'faculty', 'failed', 'failing', 'fair', 'fairly', 'fairs', 'fake', 'fall', 'fallen', 'falling', 'false', 'familiar', 'families', 'family', 'familys', 'famous', 'fan', 'fancy', 'fans', 'fantabulous', 'fantastic', 'far', 'faraway', 'fare', 'fascinated', 'fashion', 'fashioned', 'fast', 'faster', 'faucet', 'faucets', 'fault', 'faulty', 'favor', 'favorable', 'favoring', 'favour', 'favourably', 'favourite', 'favt', 'fearing', 'feasible', 'feature', 'featured', 'features', 'february', 'fecelities', 'fecilities', 'fecilytys', 'fed', 'fee', 'feedback', 'feel', 'feeling', 'feels', 'fees', 'feet', 'fell', 'felling', 'fellows', 'felt', 'female', 'femur', 'fenastic', 'fending', 'feservation', 'festival', 'fettuccine', 'few', 'fewer', 'fflhlxoxoxitxtxttcolgtcoxgxtixkrxrxfllxdridxfizgxoxixxtoxothcgchochcypyfcycoycyycyycpufotdtodtodotxyycpycyxpgxgpxyoxtoxpyxttxylhxpxphxogxttxxoh', 'fi', 'fifteen', 'fifth', 'fight', 'fights', 'figuring', 'fill', 'filled', 'filthy', 'final', 'finally', 'find', 'finding', 'fine', 'fined', 'finest', 'finger', 'fingerprinting', 'fingerprints', 'finish', 'finished', 'fire', 'firings', 'first', 'firstly', 'fish', 'fit', 'fitness', 'fitted', 'fitting', 'fittings', 'five', 'fix', 'fixable', 'fixed', 'fixtures', 'fjjfjkfknnf', 'fk', 'fkdskfkds', 'flag', 'flagship', 'flaky', 'flap', 'flask', 'flat', 'flavours', 'flaw', 'flaws', 'flexi', 'flexibility', 'flexible', 'flies', 'flight', 'flights', 'flip', 'flood', 'flooding', 'floods', 'floor', 'flooring', 'floors', 'flour', 'flow', 'flowing', 'fluctuating', 'fluctuations', 'fluent', 'flush', 'fly', 'flying', 'flyover', 'fm', 'fo', 'focus', 'focussed', 'fold', 'folding', 'folks', 'follow', 'followed', 'following', 'followup', 'food', 'foodie', 'foodies', 'fooding', 'foods', 'fool', 'fooled', 'foor', 'foot', 'footpath', 'footpaths', 'for', 'foray', 'forbidden', 'force', 'forced', 'fore', 'foreign', 'foreigners', 'foremost', 'forget', 'forgettable', 'forgot', 'forgotten', 'formalities', 'formally', 'format', 'former', 'formerly', 'forms', 'fort', 'fortel', 'forth', 'fortunate', 'fortunately', 'fortune', 'forum', 'forward', 'fought', 'foul', 'found', 'four', 'foxed', 'foyer', 'fr', 'fracture', 'fragrance', 'frame', 'frangi', 'frank', 'frayed', 'free', 'freedom', 'freely', 'freezing', 'freinds', 'french', 'frenetic', 'frequent', 'frequently', 'fresh', 'freshen', 'fresheners', 'freshest', 'freshly', 'freshner', 'freshness', 'friday', 'fridge', 'fried', 'friend', 'friendlier', 'friendliness', 'friendly', 'friends', 'frills', 'frnatic', 'fro', 'from', 'front', 'frud', 'fruit', 'fruits', 'frustrated', 'fry', 'fscility', 'ft', 'fulfill', 'full', 'fully', 'fumigation', 'fun', 'function', 'functional', 'functioning', 'functions', 'fungus', 'funky', 'funtional', 'furioso', 'furnished', 'furnisher', 'furnishes', 'furnishings', 'furniture', 'furnitures', 'further', 'fused', 'fuss', 'fussy', 'future', 'fuzzy', 'fwd', 'fy', 'fyyfdd', 'game', 'games', 'ganda', 'gande', 'gandhi', 'gang', 'gap', 'garde', 'garden', 'gardening', 'gardens', 'garlands', 'garment', 'garmi', 'gas', 'gate', 'gateway', 'gauges', 'gave', 'gaya', 'gaye', 'gcocgxggcogctcoggxotxoyxyxyocicotxotxxotxpyxyoxyoxoyxttxtixttxxhxoyyxxdypxyocyycogcxoxoycyycoyh', 'gears', 'geezer', 'gels', 'gemini', 'general', 'generally', 'generator', 'generous', 'gentle', 'gentleman', 'gently', 'genuine', 'geoffrey', 'george', 'german', 'gesture', 'get', 'getaway', 'gets', 'getting', 'geyser', 'gf', 'ggfjjmk', 'gggghh', 'ggyf', 'ghjggjhghggg', 'ghjj', 'ghost', 'gid', 'gift', 'gifts', 'ginger', 'girl', 'girlfriend', 'girls', 'giv', 'give', 'given', 'gives', 'giving', 'glad', 'glamorous', 'glamour', 'glass', 'glasses', 'glm', 'global', 'glory', 'gm', 'go', 'god', 'goers', 'goes', 'goid', 'going', 'gokulam', 'gold', 'golden', 'golulam', 'gone', 'gonna', 'good', 'goodies', 'goodjjfjdjdjdjdjdkdkfkkfkkfkfkkfkkfkfkfkfkfknf', 'goody', 'google', 'gooooodddddddddd', 'goooooooooooooooodddddddddddddddddddddddddddddddddddddddddddddddddddddddddddddddddddddddddddddffddfdddddddddddddddddddd', 'goooooooooooooooood', 'goooooooooooooooooooooodddddddddddd', 'gooooooooooooooooooooooooooooooooooooooooooooooooooooooooooooooooooooooooooooooooooooooood', 'gorged', 'got', 'gotten', 'goyal', 'gpu', 'gr', 'grace', 'gracious', 'grade', 'graded', 'graduate', 'graduated', 'grand', 'granola', 'grateful', 'greams', 'great', 'greatfull', 'greatly', 'greatttttttttttttttttttttttttttttttttttttttttttttttttttttttttttttttttttttttttttttttttttttttttttttttttttttttttttttttttttttttttttttttttttttttttttttttttttttttttttttttttttttttttttttttttttttttttttttttttttttttttttttttttttttttttttttttttttttttttttttttttttttt', 'green', 'greenery', 'greet', 'greeted', 'greeters', 'greets', 'grill', 'grilled', 'grim', 'grocers', 'groomed', 'ground', 'grounds', 'group', 'groups', 'grout', 'growing', 'grt', 'gtbhrrjknuyml', 'guarantee', 'guaranteed', 'guard', 'guards', 'gud', 'gudgud', 'gues', 'guess', 'guest', 'guesthouse', 'guests', 'guidance', 'guide', 'guided', 'guiding', 'guilty', 'guindy', 'gundas', 'guy', 'guyfgt', 'guys', 'guzzled', 'gvyf', 'gym', 'gymnasium', 'haasan', 'habitual', 'had', 'hadn', 'hai', 'hain', 'hair', 'hairlock', 'hairs', 'hajajshshhsksbsjnsdbjsbjshjbdhdkdndndjdbxjdkdjdddkkddjdddnddjdgskhsdjdidhskndjdbdjdbkddnkdndjdbdkdndnfjfbdndkdndkdndkdndkdnfjdjdnfkdndjfjkdbdkfhkdndkdbkddnddkdjdnfjfjdndkdndhjddjkdjdhdkdnbddndbdjdjjdkdndj', 'half', 'hall', 'halls', 'hallway', 'hallways', 'halt', 'hammering', 'hand', 'handing', 'handle', 'handled', 'handling', 'handsomely', 'handy', 'hang', 'hangers', 'hanging', 'hangout', 'hannu', 'hanu', 'happen', 'happened', 'happening', 'happens', 'happiest', 'happily', 'happiness', 'happy', 'harassing', 'hard', 'hardly', 'hari', 'harish', 'harsh', 'harshly', 'has', 'hasn', 'hassle', 'hassles', 'hate', 'hated', 'hats', 'haunted', 'have', 'haven', 'having', 'hd', 'he', 'head', 'headache', 'heading', 'headquarters', 'health', 'healthier', 'healthy', 'hear', 'heard', 'heart', 'heat', 'heater', 'heating', 'heaven', 'heavily', 'heavy', 'heay', 'hectic', 'heera', 'height', 'held', 'hell', 'help', 'helped', 'helper', 'helpful', 'helpfull', 'helpfulness', 'helping', 'helpline', 'helps', 'helthy', 'hence', 'henry', 'her', 'here', 'hereafter', 'heritage', 'hesitate', 'hesitated', 'hesitation', 'hh', 'hhhhhhhhhhhhfdddddddfffvgjhhhhaahahabdhjjbshdhsbdhdhsbdvdbsbxbsbdbsbdbdbdbbdbdbddfhhdhdhdjshhdhdhsbsbssbsbsbsbddddhddddhddfdhdhdhdfdhddhdfdhfjjjjjjjjjjjjjjjjjjjj', 'hhhhhjjjjjnjkm', 'hi', 'hiccups', 'hidden', 'higginbotham', 'high', 'higher', 'highest', 'highgate', 'highlight', 'highlighting', 'highlights', 'highly', 'highway', 'hillocks', 'hills', 'hilltop', 'hilton', 'him', 'himt', 'hindi', 'hint', 'hinterland', 'hioug', 'hire', 'his', 'hisab', 'history', 'hive', 'hj', 'hjf', 'hkhghkhkhkjh', 'ho', 'hobby', 'hobuyyf', 'hodgepodge', 'hold', 'holder', 'hole', 'holes', 'holiday', 'holidayiq', 'holidays', 'home', 'homely', 'homemade', 'homestay', 'honda', 'honest', 'honestly', 'honesty', 'honey', 'honeymoon', 'hong', 'honking', 'honoured', 'hooked', 'hope', 'hopeful', 'hopefully', 'hopeless', 'hopping', 'horn', 'horrible', 'horrific', 'horrified', 'hospilaity', 'hospitable', 'hospital', 'hospitalised', 'hospitality', 'hospitals', 'hospitility', 'host', 'hostel', 'hosts', 'hot', 'hotal', 'hotel', 'hoteliers', 'hotelnear', 'hotels', 'hotwater', 'hotwl', 'houekeeping', 'hour', 'hours', 'house', 'housekeeping', 'houses', 'how', 'however', 'hr', 'hrs', 'htal', 'hub', 'hubli', 'hubs', 'huge', 'hugely', 'hum', 'humble', 'humid', 'humidity', 'humiliation', 'hundred', 'hungry', 'hurdles', 'hurt', 'husband', 'hustle', 'hustles', 'hyatt', 'hygeine', 'hygenic', 'hygiene', 'hygienic', 'hygienically', 'hype', 'hyundai', 'hz', 'iam', 'ibis', 'ice', 'icing', 'id', 'idea', 'ideal', 'ideally', 'identifiable', 'identify', 'idle', 'idli', 'idlies', 'idly', 'ie', 'if', 'ignore', 'ihg', 'ihome', 'ii', 'iit', 'illa', 'illumination', 'im', 'images', 'imagine', 'immaculate', 'immediate', 'immediately', 'immense', 'impact', 'impeccable', 'importance', 'important', 'importantly', 'impossible', 'impoverished', 'impressed', 'impression', 'impressive', 'improper', 'impropper', 'improv', 'improve', 'improved', 'improvement', 'improvements', 'improves', 'improvise', 'improvised', 'improvment', 'in', 'inadvertently', 'inappropriate', 'inch', 'incidences', 'incident', 'included', 'includes', 'including', 'inclusive', 'incompetent', 'inconsiderate', 'inconvenience', 'inconvenient', 'incorrect', 'increase', 'increased', 'incredibly', 'indain', 'indeed', 'india', 'indian', 'indians', 'indifferent', 'individual', 'individuals', 'indoor', 'indus', 'industrial', 'industry', 'inefficient', 'inexpensive', 'infact', 'infant', 'infestation', 'infested', 'infinity', 'inflexible', 'info', 'inform', 'information', 'informative', 'informed', 'informing', 'infrastructure', 'infront', 'ingenuity', 'ingredients', 'inhibition', 'initial', 'initially', 'inn', 'inner', 'inr', 'inroom', 'ins', 'inscets', 'insects', 'inside', 'insisted', 'inspiration', 'inspite', 'instability', 'installed', 'instant', 'instead', 'institutions', 'instructions', 'instructor', 'insufficient', 'insulated', 'insult', 'insulting', 'insurance', 'integrity', 'interaction', 'intercom', 'interest', 'interested', 'interesting', 'interfere', 'interior', 'interiors', 'intermittent', 'intermittently', 'internal', 'internatioinal', 'international', 'internet', 'interspersed', 'interview', 'inthr', 'intl', 'into', 'introducing', 'intrusive', 'invitation', 'invite', 'invited', 'invoice', 'invoices', 'ip', 'ipad', 'iphone', 'iphones', 'ipod', 'iq', 'ird', 'iris', 'irkukum', 'iron', 'ironed', 'irresponsible', 'irritant', 'irritate', 'irritates', 'irritating', 'irukum', 'irungattukottai', 'is', 'ish', 'ishotal', 'ism', 'isn', 'isolated', 'issue', 'issues', 'it', 'italan', 'italian', 'italy', 'itc', 'itching', 'itchings', 'item', 'items', 'itna', 'its', 'itself', 'ittttttttttttts', 'ittttttttty', 'iwill', 'iyyappan', 'jaa', 'jacuzzi', 'jag', 'jailed', 'jammed', 'jan', 'jana', 'january', 'jaoge', 'japanese', 'jawahar', 'jaya', 'jaye', 'jeb', 'jeeva', 'jet', 'jewellery', 'jfjfjjfjjfjf', 'jgfh', 'jhelum', 'jiohuo', 'jjjjjjjjjjjjjjjjjjjjjjjjjjjjjjjjjjjjjjjjjjjjnnnnjjhggfgjjhgghhhhhhggghhggghhvgffgghhhhhgggggggggggggggg', 'jko', 'jkr', 'job', 'jobs', 'john', 'joint', 'joints', 'joke', 'jot', 'journey', 'joy', 'jug', 'jugaad', 'juice', 'july', 'junction', 'june', 'jungle', 'junior', 'jus', 'just', 'justified', 'jyada', 'ka', 'kabi', 'kadai', 'kajal', 'kali', 'kam', 'kamal', 'kamarajar', 'kannada', 'kannadhasan', 'kannan', 'kapalishwar', 'karo', 'kart', 'kashmir', 'kassa', 'katti', 'kbps', 'kds', 'ke', 'kebab', 'keen', 'keep', 'keeping', 'keeps', 'kelambakkam', 'kensington', 'kept', 'kerala', 'ketch', 'kettel', 'kettle', 'key', 'keys', 'kf', 'kflgkskg', 'kg', 'kgksdf', 'khaana', 'khan', 'khana', 'khas', 'khihgigytf', 'khiklp', 'kho', 'khz', 'ki', 'kiciyk', 'kid', 'kids', 'kih', 'kihorrible', 'killed', 'killer', 'kilo', 'kilometer', 'kilpauk', 'kim', 'kind', 'kinda', 'kindly', 'kindness', 'kinds', 'king', 'kings', 'kis', 'kit', 'kitchen', 'kitchenette', 'kitchens', 'kitrbureijn', 'kits', 'kjvyguf', 'kkb', 'kkdskfdskfkdskf', 'km', 'kms', 'knew', 'kng', 'knob', 'knobs', 'knock', 'knocked', 'knocking', 'knocks', 'know', 'knowing', 'knowledgable', 'knowledge', 'known', 'knows', 'knwn', 'kodambakkam', 'koi', 'kong', 'koyambedu', 'koyembedu', 'krishna', 'krkrkktkjdontnkd', 'krm', 'krogh', 'ktkktktjjtktkjtjjt', 'ktktktktktkmdkr', 'kuch', 'kudos', 'kumar', 'kumaranhopital', 'kundrathur', 'kuppanna', 'kuvam', 'la', 'laced', 'lack', 'lacked', 'lacking', 'lacks', 'ladies', 'lady', 'laga', 'laid', 'laka', 'lake', 'lakes', 'lakin', 'lal', 'lamb', 'laminate', 'lan', 'land', 'landed', 'landing', 'landmark', 'landmarks', 'lands', 'landscape', 'lane', 'lanes', 'language', 'languages', 'laptop', 'large', 'larger', 'laskg', 'last', 'lastly', 'latch', 'late', 'lately', 'later', 'latest', 'laundry', 'lavish', 'lawn', 'laws', 'layers', 'layout', 'layouts', 'lazy', 'lcd', 'ldksf', 'le', 'lead', 'leading', 'leads', 'league', 'leakage', 'leaked', 'leaking', 'leaks', 'leaky', 'lean', 'learn', 'learnt', 'least', 'leasure', 'leave', 'leaves', 'leaving', 'led', 'leela', 'left', 'legs', 'leisure', 'leisured', 'leisurely', 'lekhin', 'lekin', 'lela', 'leman', 'lemon', 'less', 'lessened', 'lesser', 'lessons', 'let', 'letdown', 'letting', 'level', 'levels', 'levied', 'levy', 'lication', 'license', 'lie', 'lies', 'life', 'lifely', 'lifes', 'lift', 'lifts', 'light', 'lighted', 'lighting', 'lightings', 'lightly', 'lights', 'like', 'liked', 'likes', 'liking', 'limit', 'limitation', 'limited', 'limiting', 'limits', 'line', 'linen', 'linens', 'lines', 'lingering', 'link', 'liquor', 'list', 'listed', 'listening', 'listens', 'listing', 'lit', 'lite', 'literally', 'littel', 'litterly', 'littile', 'little', 'live', 'lived', 'lively', 'lives', 'living', 'liye', 'lizards', 'ljtioljk', 'lkol', 'lkounlojbkkutbv', 'll', 'loaction', 'lobby', 'local', 'localite', 'localites', 'locality', 'locals', 'locate', 'located', 'locates', 'locating', 'location', 'locationnnnnnnnnnnn', 'locationnothing', 'locations', 'lock', 'locke', 'locked', 'locker', 'lockers', 'locking', 'locks', 'lodge', 'lodges', 'lodging', 'loft', 'logged', 'logging', 'logically', 'login', 'logout', 'logs', 'lokesh', 'loketion', 'lolipops', 'lolling', 'londo', 'long', 'longer', 'loo', 'loofah', 'look', 'looked', 'lookin', 'looking', 'looks', 'loose', 'loot', 'lord', 'lorry', 'loss', 'lost', 'lot', 'lotels', 'lotions', 'lots', 'loud', 'loudspeaker', 'loundried', 'lounge', 'lousy', 'love', 'loved', 'lovely', 'lovers', 'low', 'lowered', 'lowest', 'lphjhgfr', 'lskgksgk', 'lu', 'luck', 'luckily', 'lucky', 'luggage', 'luggages', 'lunch', 'lund', 'luv', 'luxuries', 'luxurious', 'luxury', 'lying', 'lyk', 'ma', 'maa', 'maat', 'machine', 'made', 'madras', 'madurai', 'magistic', 'magnificent', 'mahabalipuram', 'mahalaya', 'maharashtra', 'mahavalipuram', 'mahindra', 'mahsus', 'mail', 'main', 'mainland', 'mainly', 'maintain', 'maintaince', 'maintained', 'maintainence', 'maintainer', 'maintaining', 'maintanance', 'maintenance', 'maintened', 'majestic', 'major', 'majority', 'mak', 'make', 'makemy', 'makemytrip', 'maker', 'makers', 'makes', 'making', 'makymytrip', 'malfunctioned', 'mall', 'malli', 'malls', 'mam', 'mambalam', 'man', 'managable', 'manage', 'manageable', 'managed', 'management', 'managent', 'manager', 'managers', 'mandatory', 'manegment', 'manet', 'manger', 'manitances', 'manju', 'manner', 'mannered', 'mannerism', 'manners', 'manor', 'manpower', 'mansion', 'manual', 'manually', 'many', 'map', 'mapple', 'maps', 'marblouse', 'march', 'marina', 'marine', 'mark', 'markable', 'market', 'marketing', 'markets', 'marking', 'marks', 'marriage', 'marriott', 'mars', 'marvellous', 'marvelous', 'mary', 'marys', 'masala', 'masquitos', 'massage', 'massages', 'massive', 'masssssssssssss', 'master', 'masterpiece', 'mat', 'matanka', 'match', 'matchbox', 'matched', 'matches', 'matching', 'mate', 'mates', 'mathew', 'matress', 'mats', 'matter', 'matters', 'mattress', 'mattresses', 'maurya', 'max', 'maxed', 'maximum', 'may', 'maya', 'maybe', 'mb', 'md', 'me', 'meadows', 'meagre', 'meal', 'meals', 'mean', 'means', 'meant', 'mechanic', 'mechanism', 'medical', 'medicated', 'mediocore', 'mediocre', 'mediterranean', 'medium', 'meet', 'meeting', 'meetings', 'meets', 'mega', 'member', 'members', 'membership', 'memorable', 'memorial', 'memories', 'memory', 'mens', 'ment', 'mention', 'mentioned', 'menu', 'mepz', 'mercy', 'mere', 'merely', 'meridien', 'merina', 'mesmerizing', 'mess', 'message', 'met', 'metal', 'meters', 'method', 'methu', 'meting', 'metres', 'metric', 'metro', 'metropolis', 'mgm', 'mgt', 'mid', 'midday', 'middle', 'midnight', 'midst', 'might', 'mildly', 'mile', 'miles', 'milk', 'min', 'mind', 'minded', 'mindset', 'mine', 'mineral', 'mini', 'minimal', 'minimized', 'minimum', 'minister', 'ministers', 'minor', 'mins', 'mint', 'minus', 'minute', 'minutes', 'minutesâ', 'mirror', 'mirrors', 'mirshahibpet', 'miscerable', 'miscommunication', 'miserable', 'misleading', 'miso', 'misquito', 'miss', 'missed', 'missing', 'mistake', 'mistakes', 'mix', 'mixed', 'mixture', 'mm', 'mmt', 'mobile', 'mobiles', 'mobility', 'mode', 'model', 'modelling', 'models', 'moderate', 'modern', 'modernisation', 'modernization', 'modes', 'modest', 'modifications', 'modified', 'module', 'moey', 'mohabalipurom', 'mohan', 'moist', 'mold', 'mom', 'moment', 'moments', 'monday', 'money', 'monitor', 'month', 'months', 'mood', 'moore', 'more', 'moreover', 'morning', 'mornings', 'mortin', 'moses', 'mosque', 'mosquito', 'mosquitoes', 'mosquitos', 'most', 'mostly', 'motel', 'motherly', 'motto', 'mouldy', 'mount', 'mouth', 'move', 'moved', 'movement', 'movements', 'movie', 'movies', 'moving', 'mr', 'mrp', 'mrt', 'mrv', 'ms', 'msg', 'msnbc', 'mt', 'mtrs', 'mts', 'much', 'mudakanimanan', 'mug', 'mugs', 'multi', 'multiple', 'multistory', 'murgan', 'murugan', 'museum', 'music', 'muslim', 'must', 'musty', 'muze', 'my', 'mylapore', 'myself', 'mytrip', 'na', 'naan', 'nachiayappa', 'nadu', 'nafis', 'nagar', 'nagesh', 'nahi', 'naice', 'nalla', 'name', 'named', 'namely', 'namesake', 'nan', 'nap', 'napkins', 'narrate', 'narrow', 'nasta', 'nasty', 'nation', 'national', 'natural', 'nature', 'natured', 'naukuchiatal', 'nbhugtfuvhftytd', 'nbnnnhhhgttdcvjuytdvjkiffjjydvhuthjhbjjgfbhjufcbjhfvjbjfbjbijtcbniasfjkltewwsfjjjkkytrwwfhjkkkooyreewadhknvcxzcvnmccccbbcxxbncxbbnkkgfdjhgggggggggupuyyrrrdeddghklllmccddwetyjoiuurrrrwwdhjjjkkiytrrrfhjgt', 'nd', 'near', 'nearbuy', 'nearby', 'nearer', 'nearest', 'nearly', 'neat', 'neater', 'neatly', 'neatness', 'necessary', 'necessities', 'necessity', 'neck', 'need', 'needed', 'needful', 'needlessly', 'needs', 'neeraj', 'neet', 'negative', 'negatives', 'neglect', 'negligent', 'negotiate', 'negotiated', 'nehru', 'neighborhood', 'neighbourhood', 'neighbours', 'neither', 'nest', 'nestle', 'nestled', 'net', 'nethralaya', 'network', 'never', 'nevertheless', 'new', 'newer', 'newly', 'news', 'newspaper', 'newspapers', 'nex', 'next', 'nfjfkkfkf', 'nfjfmfkfkfkfkfkr', 'nfjjfkf', 'ngyufuyyyg', 'nic', 'nicd', 'nice', 'nicely', 'niciappa', 'nidhi', 'night', 'nightly', 'nightmare', 'nights', 'nilgiri', 'nine', 'nirmal', 'niss', 'nit', 'nite', 'nneds', 'nngh', 'nnnnnnbnnnnnnnnnn', 'no', 'nobody', 'noise', 'noises', 'noisiest', 'noisy', 'nominal', 'non', 'none', 'nonsense', 'nonveg', 'noodles', 'noon', 'noone', 'nor', 'normal', 'normally', 'north', 'northern', 'not', 'notable', 'notch', 'note', 'noted', 'noteworthy', 'noth', 'nothing', 'noticed', 'notification', 'notwithstanding', 'nov', 'november', 'now', 'nowhere', 'nt', 'ntktktkt', 'number', 'numbers', 'nungambakkam', 'nurturing', 'nuto', 'nutshell', 'nxjk', 'ny', 'nyte', 'oasis', 'oberoi', 'objectionable', 'objective', 'obliged', 'obliging', 'observant', 'obsolete', 'obvious', 'obviously', 'occasion', 'occasionally', 'occasions', 'occupancy', 'occupant', 'occupants', 'occupied', 'occupying', 'occur', 'ocean', 'odd', 'oder', 'odin', 'odor', 'odour', 'of', 'ofc', 'off', 'offbeat', 'offc', 'offer', 'offerd', 'offered', 'offering', 'offers', 'office', 'officer', 'offices', 'official', 'offish', 'often', 'ofyears', 'ohotel', 'oil', 'oily', 'ok', 'okay', 'okayish', 'okeition', 'ol', 'ola', 'old', 'older', 'oldest', 'oldie', 'oldies', 'oldish', 'olive', 'olives', 'olympia', 'omelet', 'omelette', 'omlets', 'omlettes', 'omni', 'ompuri', 'omr', 'on', 'once', 'one', 'ones', 'oneword', 'ongoing', 'onion', 'online', 'only', 'ons', 'onto', 'onward', 'onwards', 'oooooooooknnnnnnnnnnnnnnnnnnjdjjsshdbdbdbdnndndndjdjdjdjdjdjdkdkrrkkdkdkdkdndmdndndndndjfjfjjtjrjddjnsmsksksjdjdjdjdndndndnffnfjjdjdjdndndjdjduensjeudjsidndndmmfmfndnfndnndjekdkejdkkskskkdkskdhfnjdrjjdjdjjdkskzjdhjdjdjdjejdjjd', 'ooty', 'open', 'opened', 'opening', 'operate', 'operated', 'operation', 'operative', 'operator', 'opinion', 'opotions', 'opp', 'opportunity', 'opposite', 'opt', 'opted', 'optimum', 'option', 'options', 'or', 'oragadam', 'orange', 'ordeals', 'order', 'ordered', 'ordering', 'ordinary', 'ordinated', 'ordinating', 'ordy', 'orgadam', 'organise', 'organised', 'organized', 'oriented', 'originally', 'orovided', 'oshadi', 'other', 'others', 'otherwise', 'ottiyambakkam', 'our', 'ours', 'ourself', 'out', 'outage', 'outdated', 'outdoor', 'outdoors', 'outer', 'outing', 'outlet', 'outlets', 'outlook', 'outs', 'outside', 'outskirts', 'outsourced', 'outstanding', 'outstation', 'oven', 'over', 'overal', 'overall', 'overbearing', 'overcharge', 'overhanging', 'overlooked', 'overly', 'overnight', 'overpriced', 'overtly', 'overworked', 'own', 'owned', 'owner', 'owners', 'owns', 'oxted', 'oye', 'oyo', 'pa', 'pace', 'pacific', 'pack', 'package', 'packed', 'pad', 'pages', 'paid', 'pain', 'painful', 'paint', 'painted', 'painting', 'pakoda', 'palace', 'palani', 'palate', 'palette', 'pallava', 'pallavaram', 'pallikaranai', 'palms', 'pan', 'pana', 'pandian', 'pandiyan', 'paneer', 'panel', 'panena', 'panner', 'pants', 'papad', 'papaer', 'paper', 'papers', 'paperwork', 'paprika', 'par', 'paradise', 'parallel', 'parata', 'paratha', 'parathas', 'parbat', 'parcel', 'parent', 'parents', 'park', 'parked', 'parking', 'parkking', 'parks', 'part', 'parthiban', 'partially', 'participants', 'participate', 'particular', 'particularly', 'parties', 'parts', 'party', 'pass', 'passages', 'passe', 'passed', 'passenger', 'passengers', 'passes', 'passion', 'passive', 'passport', 'password', 'past', 'paste', 'pasted', 'pastry', 'patches', 'patchy', 'path', 'pathetic', 'pathways', 'patience', 'paucity', 'paves', 'pax', 'pay', 'payable', 'payback', 'paying', 'payment', 'payments', 'pays', 'pc', 'pct', 'pdf', 'pe', 'peace', 'peaceful', 'peacefully', 'peak', 'peanut', 'pearl', 'pease', 'peeling', 'peep', 'pen', 'penny', 'penultimate', 'peoperty', 'people', 'peoples', 'peple', 'pepsi', 'per', 'perfect', 'perfectly', 'perform', 'performance', 'perhaps', 'period', 'periodic', 'periodically', 'periyar', 'perking', 'permanently', 'permission', 'permit', 'perpetual', 'persistent', 'person', 'personal', 'personally', 'personnel', 'personnels', 'persons', 'perspective', 'persuasion', 'pervez', 'peshawar', 'pest', 'pet', 'peter', 'petrol', 'pg', 'phone', 'phones', 'photo', 'photograph', 'photographs', 'photos', 'phulka', 'physical', 'physically', 'pi', 'piano', 'pianting', 'pic', 'pick', 'picked', 'pickle', 'picks', 'pickup', 'pickups', 'picky', 'pics', 'picture', 'pictures', 'piece', 'pillar', 'pillow', 'pillowes', 'pillows', 'pinching', 'pipe', 'pitfalls', 'pizza', 'pizzas', 'place', 'placed', 'placement', 'places', 'plain', 'plan', 'plane', 'planet', 'planned', 'planning', 'plans', 'plastic', 'plates', 'play', 'played', 'playing', 'plays', 'playstation', 'plaza', 'ple', 'pleasant', 'pleasantly', 'pleasantness', 'please', 'pleased', 'pleasent', 'pleasing', 'pleasurable', 'pleasure', 'plenty', 'plotted', 'pls', 'plug', 'plus', 'plz', 'pm', 'pocket', 'pockets', 'poes', 'point', 'pointed', 'points', 'pointâ', 'polaied', 'police', 'policies', 'policy', 'polite', 'politely', 'politeness', 'politicians', 'poll', 'pollution', 'pond', 'pondi', 'pondicherry', 'pondy', 'pondycherry', 'ponnamalle', 'pool', 'pools', 'poor', 'poori', 'poorly', 'popular', 'populated', 'port', 'portal', 'portant', 'porter', 'portfolio', 'portico', 'portiko', 'portions', 'porur', 'posesbag', 'posh', 'position', 'positive', 'positives', 'possibility', 'possible', 'possibly', 'post', 'postcard', 'posted', 'poster', 'postive', 'posts', 'pot', 'potential', 'potentially', 'pothys', 'pouring', 'powder', 'power', 'powerful', 'pp', 'ppaces', 'pr', 'prabhakar', 'practically', 'practice', 'pradesh', 'praise', 'prashanth', 'pratap', 'praveen', 'prawns', 'pre', 'precomputed', 'prefer', 'preference', 'preferences', 'preferred', 'prejuv', 'premise', 'premises', 'premium', 'preparation', 'prepare', 'prepared', 'prepone', 'presence', 'present', 'presentation', 'pressing', 'pressure', 'pretty', 'prevent', 'previous', 'previously', 'price', 'priced', 'priceless', 'prices', 'pricey', 'pricing', 'pricy', 'pride', 'primarily', 'primary', 'prime', 'print', 'printer', 'printing', 'printout', 'printouts', 'prior', 'priority', 'pristine', 'privacy', 'private', 'privatised', 'privileges', 'priya', 'priyanka', 'prized', 'pro', 'proactive', 'prob', 'probably', 'problem', 'problems', 'procedure', 'proceed', 'process', 'processed', 'processes', 'processing', 'product', 'products', 'professional', 'professionalism', 'programs', 'progress', 'projects', 'prometric', 'prominent', 'promise', 'promised', 'promises', 'prompt', 'promptly', 'prone', 'proof', 'proofs', 'prop', 'proper', 'properly', 'properties', 'property', 'proposal', 'pros', 'prove', 'provide', 'provided', 'providers', 'provides', 'providing', 'provision', 'proximity', 'psi', 'pub', 'pubbing', 'public', 'published', 'pubs', 'puck', 'pull', 'pump', 'punctuality', 'pungent', 'pup', 'pura', 'puram', 'puran', 'purasawalkam', 'purchase', 'purchases', 'purchasing', 'pure', 'purpose', 'purposely', 'purposes', 'push', 'pushed', 'put', 'puts', 'putting', 'puzzled', 'pwoples', 'qhxndndbsbsndbxndjdjdjdjdjdjshsbdbddhddhdhdhdnfndnfn', 'qlty', 'quaint', 'qualiry', 'qualities', 'quality', 'quantity', 'quarrels', 'quarter', 'queens', 'queensland', 'queensway', 'quench', 'queries', 'query', 'questions', 'quick', 'quickly', 'quiet', 'quietly', 'quire', 'quirks', 'quisine', 'quit', 'quite', 'quiteeeee', 'quota', 'quoted', 'rack', 'raddison', 'radha', 'radhika', 'radio', 'radisson', 'radissons', 'radius', 'rah', 'raha', 'rahega', 'rahi', 'rail', 'railline', 'railway', 'railways', 'railwaystation', 'rain', 'raintree', 'rainy', 'raised', 'raj', 'rajahmundry', 'rajinikanth', 'ram', 'ramada', 'ramanujan', 'ramshackle', 'ran', 'ranganathan', 'range', 'ranged', 'ranking', 'rasam', 'rashes', 'rat', 'rate', 'rated', 'rates', 'rather', 'rating', 'rationed', 'rats', 'rattled', 'rattling', 'rb', 'rd', 're', 'reach', 'reachable', 'reached', 'reaching', 'reacted', 'reactions', 'read', 'readers', 'readily', 'reading', 'ready', 'real', 'realising', 'really', 'rear', 'reason', 'reasonable', 'reasonably', 'reasons', 'reassurance', 'rebate', 'rebooked', 'recall', 'reccommend', 'receiption', 'receive', 'received', 'receiver', 'receives', 'receiving', 'recent', 'recently', 'reception', 'receptionist', 'receptionists', 'receptioon', 'receptive', 'recharge', 'recipes', 'recive', 'recoded', 'recognition', 'recognizable', 'recomend', 'recommed', 'recommend', 'recommendable', 'recommendation', 'recommended', 'recommending', 'reconditioned', 'reconditioning', 'record', 'recover', 'rectified', 'rectify', 'rectifying', 'red', 'reddy', 'redeeming', 'redo', 'redsun', 'reduce', 'reduced', 'reeuhn', 'reeving', 'refer', 'referred', 'refers', 'refill', 'reflected', 'reflection', 'reflects', 'refreshing', 'refrigerator', 'refund', 'refurb', 'refurbished', 'refurbishing', 'refuse', 'refused', 'refusing', 'regain', 'regally', 'regarding', 'regards', 'regency', 'regent', 'region', 'regional', 'registration', 'regret', 'regrets', 'regular', 'regularly', 'regulation', 'regulations', 'regulator', 'reimbursed', 'rejuvenate', 'rejuvenation', 'related', 'relation', 'relative', 'relatively', 'relatives', 'relax', 'relaxation', 'relaxed', 'relaxing', 'relaying', 'reliable', 'relief', 'religious', 'relish', 'relocate', 'rely', 'remained', 'remaining', 'remains', 'remarkable', 'remember', 'remembered', 'remind', 'reminded', 'reminder', 'reminders', 'remodel', 'remote', 'remotely', 'remove', 'removed', 'rendered', 'reneged', 'renewed', 'renovate', 'renovated', 'renovating', 'renovation', 'renovations', 'rent', 'rental', 'rented', 'reomte', 'reorganization', 'rep', 'repainted', 'repair', 'repaired', 'repairs', 'repalent', 'repeat', 'repeated', 'repeatedly', 'repellant', 'repetitive', 'replace', 'replaced', 'replacement', 'replenishment', 'replete', 'reply', 'report', 'reported', 'representatives', 'reputation', 'reputed', 'request', 'requested', 'requesting', 'requests', 'require', 'required', 'requirement', 'requirements', 'requires', 'resapationest', 'reschedule', 'research', 'reseption', 'reservation', 'reservations', 'reserved', 'reside', 'residence', 'residences', 'residency', 'residential', 'residents', 'resides', 'resisted', 'resolve', 'resolved', 'resond', 'resort', 'resorts', 'resovled', 'respect', 'respectful', 'respective', 'respond', 'responded', 'responding', 'respons', 'response', 'responses', 'responsibility', 'responsible', 'responsive', 'rest', 'restaraunt', 'restaturants', 'restaurant', 'restaurants', 'restaurent', 'resteraunt', 'resteraunts', 'restful', 'resting', 'resto', 'restored', 'restroom', 'restrooms', 'restuarants', 'resturent', 'resulting', 'retro', 'return', 'returned', 'returning', 'returns', 'revamp', 'revankar', 'reverse', 'reverted', 'review', 'reviews', 'revisit', 'revisiting', 'reviw', 'reward', 'rewards', 'rgds', 'rice', 'rich', 'rickshaw', 'ricoh', 'rid', 'ride', 'ridiculous', 'right', 'rigid', 'ring', 'ringing', 'rip', 'rise', 'risk', 'risky', 'river', 'rivera', 'riviera', 'rly', 'roaches', 'road', 'roads', 'roam', 'roaming', 'rocks', 'rohi', 'roll', 'rom', 'romantic', 'rood', 'roof', 'rooftop', 'room', 'rooms', 'roomservice', 'roopees', 'root', 'rote', 'roti', 'round', 'route', 'router', 'routes', 'routine', 'royal', 'royality', 'rravelles', 'rs', 'rubbish', 'rude', 'rudely', 'ruin', 'ruined', 'rule', 'rules', 'run', 'running', 'runs', 'rupee', 'rupees', 'rush', 'rushing', 'rust', 'rusted', 'rustic', 'rusty', 'sa', 'sab', 'sabari', 'sabse', 'sachets', 'sad', 'sadly', 'safe', 'safety', 'safisfactory', 'safty', 'sahi', 'saibaba', 'said', 'sais', 'sake', 'sakta', 'salad', 'salai', 'salmon', 'salon', 'salt', 'salted', 'salty', 'sam', 'sambar', 'sambhar', 'samco', 'same', 'samudra', 'sandwich', 'sandwiches', 'sangeeta', 'sangeetha', 'sanitation', 'sankara', 'santhome', 'sapce', 'saravana', 'saravavana', 'saree', 'sarovar', 'sarvana', 'sarvice', 'sarwana', 'sasi', 'sat', 'sathyabama', 'satisfaction', 'satisfactory', 'satisfied', 'satisfy', 'satisfying', 'satisified', 'satkar', 'satsfactory', 'saturday', 'saurabh', 'save', 'saved', 'savera', 'saves', 'saving', 'savings', 'saw', 'say', 'saying', 'says', 'scale', 'scene', 'scenery', 'scenic', 'schedule', 'scheduled', 'scheldule', 'science', 'scientist', 'scooter', 'scope', 'score', 'screen', 'screwed', 'scribble', 'scrumptious', 'sdkf', 'se', 'sea', 'sealing', 'search', 'searched', 'searching', 'season', 'seasoned', 'seat', 'seating', 'seats', 'secluded', 'second', 'secondly', 'seconds', 'section', 'sections', 'secure', 'secured', 'security', 'sediments', 'see', 'seeing', 'seem', 'seemed', 'seems', 'seen', 'seepage', 'select', 'selected', 'selecting', 'selection', 'self', 'sell', 'selling', 'selva', 'selvarathinam', 'seminar', 'senarish', 'send', 'sending', 'sense', 'sensor', 'sent', 'separate', 'separately', 'separating', 'sept', 'september', 'serene', 'serious', 'seriously', 'serivce', 'servant', 'serve', 'served', 'servent', 'server', 'serves', 'servic', 'service', 'serviced', 'services', 'servicing', 'servieses', 'serving', 'set', 'sets', 'setting', 'settle', 'setup', 'seven', 'several', 'severe', 'sewage', 'sewer', 'sexy', 'sez', 'sh', 'shabby', 'shaking', 'shall', 'shame', 'shampoo', 'shan', 'shankar', 'shape', 'share', 'shares', 'shaving', 'shayad', 'she', 'sheer', 'sheet', 'sheets', 'shell', 'shelter', 'shelves', 'sheraton', 'shift', 'shifted', 'shifting', 'shirdi', 'shit', 'shits', 'sho', 'shobana', 'shobhna', 'shocked', 'shoddiest', 'shoddy', 'sholinganallur', 'shollinganur', 'shop', 'shopping', 'shops', 'shore', 'short', 'should', 'shouold', 'shout', 'shouting', 'show', 'showed', 'shower', 'showers', 'showing', 'shown', 'showroom', 'shows', 'shrotriya', 'shut', 'shuttle', 'siaff', 'sibasan', 'siblings', 'sick', 'sickout', 'side', 'siding', 'sidon', 'sight', 'sightscreens', 'sightseeing', 'sign', 'signage', 'signal', 'signaled', 'signals', 'signboard', 'significant', 'silence', 'silent', 'silly', 'simbu', 'similar', 'simple', 'simply', 'sims', 'since', 'sincere', 'sing', 'single', 'singles', 'sink', 'sinking', 'sipcot', 'sir', 'sirf', 'sister', 'sit', 'site', 'sites', 'sitting', 'situated', 'situation', 'sivaraman', 'six', 'sizable', 'size', 'sized', 'sizes', 'skag', 'skeptical', 'skgs', 'skiding', 'skilled', 'skills', 'skin', 'skip', 'skipped', 'sky', 'skywalk', 'sleep', 'sleeper', 'sleeping', 'slept', 'slices', 'slight', 'slightly', 'slipper', 'slippers', 'slow', 'slower', 'slso', 'slum', 'small', 'smaller', 'smallest', 'smart', 'smarts', 'smell', 'smelled', 'smelling', 'smells', 'smelly', 'smelt', 'smile', 'smiles', 'smiling', 'smoke', 'smokers', 'smokes', 'smoking', 'smooth', 'smoothly', 'snack', 'snacks', 'snag', 'sniff', 'sniffer', 'snooker', 'so', 'soap', 'soaps', 'sober', 'social', 'socks', 'sofa', 'soft', 'software', 'soggy', 'solamnu', 'solar', 'sold', 'sole', 'solely', 'solid', 'solution', 'solved', 'some', 'somebody', 'somehow', 'someone', 'somerset', 'something', 'sometime', 'sometimes', 'someways', 'somewhat', 'somewhere', 'son', 'songs', 'soo', 'soon', 'sooo', 'soothing', 'sophistication', 'sorces', 'sore', 'sorry', 'sort', 'sorting', 'sought', 'soul', 'sound', 'sounds', 'soup', 'sour', 'source', 'south', 'southern', 'southindian', 'soutsidehotel', 'soveniour', 'spa', 'space', 'spaces', 'spacious', 'spaiend', 'spanish', 'spared', 'speacial', 'speak', 'speaking', 'speaks', 'special', 'specialised', 'specially', 'specie', 'specific', 'specifically', 'spectacular', 'speechless', 'speed', 'speedy', 'spegetii', 'spencer', 'spend', 'spending', 'spent', 'spew', 'spice', 'spiceless', 'spicy', 'spilt', 'spin', 'spirits', 'spite', 'spits', 'splendid', 'split', 'splurge', 'spoil', 'spoiled', 'spoiler', 'spoils', 'spoilt', 'spoke', 'spoken', 'spoon', 'sporting', 'sports', 'spot', 'spots', 'spotted', 'spotty', 'spray', 'sprayed', 'spread', 'spring', 'spruce', 'spruced', 'square', 'sri', 'srictly', 'srinagarâ', 'sriperumbudur', 'srm', 'ss', 'ssh', 'ssn', 'ssssoooooo', 'ssssssssssssssssssssssssssssssssssssssssssssssssssssssssssssssssssssssssssssssssssssssssssssssss', 'ssuggest', 'st', 'stable', 'stack', 'stadium', 'staf', 'staff', 'staffed', 'staffs', 'stafs', 'stage', 'stagnant', 'stained', 'stains', 'staircase', 'stairs', 'stale', 'stall', 'stalls', 'stamping', 'stand', 'standard', 'standards', 'standby', 'star', 'stares', 'starff', 'stars', 'start', 'started', 'starter', 'starting', 'starts', 'state', 'stated', 'states', 'stating', 'station', 'stations', 'status', 'staunch', 'stay', 'stayed', 'staying', 'stays', 'steal', 'stench', 'step', 'steps', 'sterling', 'stey', 'stick', 'sticking', 'sticks', 'sticky', 'stiff', 'still', 'stings', 'stingy', 'stink', 'stinking', 'stinks', 'stinky', 'stirrers', 'stocked', 'stole', 'stomach', 'stone', 'stop', 'stopover', 'stopped', 'stopping', 'stops', 'storage', 'stores', 'storm', 'story', 'strange', 'stranger', 'strategic', 'strategically', 'stray', 'street', 'streets', 'strength', 'stretch', 'strict', 'strictly', 'strives', 'stroll', 'strong', 'strongly', 'structure', 'struggle', 'struggled', 'stuck', 'studies', 'studio', 'study', 'studying', 'stuff', 'stuffing', 'stuffs', 'stunning', 'stupendous', 'style', 'styled', 'styles', 'styling', 'stylish', 'stylistic', 'suatable', 'sub', 'subdued', 'subject', 'sublime', 'submerged', 'submitted', 'subramani', 'subscribed', 'subscription', 'subsequent', 'substantially', 'substitute', 'suburban', 'success', 'such', 'sucked', 'sucks', 'suddenly', 'suffering', 'sufficient', 'sufficiently', 'suffired', 'suffocating', 'sugar', 'suggess', 'suggest', 'suggested', 'suggestion', 'suggestions', 'suggests', 'suit', 'suitable', 'suite', 'suited', 'suits', 'sum', 'summer', 'summing', 'sumptuous', 'sun', 'sunday', 'sunrise', 'sunset', 'super', 'superb', 'superior', 'supermarket', 'superstar', 'supervisor', 'supplied', 'supplies', 'supply', 'support', 'supported', 'supporting', 'supportive', 'suppose', 'supposed', 'supposedly', 'suprb', 'sure', 'surely', 'surfing', 'surly', 'surpassed', 'surprise', 'surprised', 'surprises', 'surrounded', 'surrounding', 'surroundings', 'surrounds', 'survive', 'susan', 'susannah', 'sushi', 'swatting', 'sweat', 'sweet', 'sweets', 'swift', 'swimmimg', 'swimming', 'swiping', 'switch', 'switched', 'switches', 'syed', 'system', 'table', 'tablemats', 'tables', 'tablet', 'tacky', 'tad', 'tadka', 'taffic', 'tag', 'taj', 'take', 'taken', 'taker', 'takes', 'taking', 'talc', 'talented', 'talk', 'talke', 'talking', 'tall', 'tambaram', 'tamil', 'tamilnadu', 'tandoori', 'tank', 'tap', 'taps', 'taramani', 'target', 'tariff', 'tariffs', 'tarrif', 'tarriff', 'task', 'taste', 'tasted', 'tastes', 'tasty', 'tat', 'tata', 'tatings', 'tavel', 'tax', 'taxes', 'taxi', 'taxis', 'tayed', 'tb', 'tbe', 'tbis', 'tcs', 'tea', 'team', 'teansportation', 'tear', 'tech', 'technical', 'technician', 'technology', 'techpark', 'teething', 'teie', 'telangana', 'telephone', 'television', 'televisions', 'tell', 'telling', 'telugu', 'temp', 'temperate', 'temperature', 'temple', 'temples', 'temporary', 'ten', 'tender', 'tends', 'tennis', 'tension', 'term', 'termed', 'terminus', 'terms', 'terrace', 'terrible', 'terribly', 'terrific', 'test', 'testi', 'testy', 'textile', 'th', 'tha', 'thai', 'thailand', 'thakavat', 'thalaivar', 'thalappakatti', 'than', 'thank', 'thankful', 'thankfully', 'thanks', 'thankz', 'thanx', 'thaouzand', 'that', 'thats', 'the', 'theater', 'theatre', 'theatres', 'thee', 'theek', 'their', 'them', 'theme', 'themselves', 'then', 'therapy', 'there', 'thereafter', 'therefore', 'these', 'they', 'thi', 'thick', 'thiis', 'thik', 'thin', 'thing', 'things', 'think', 'thinking', 'third', 'thirsts', 'thiruvanmiyur', 'this', 'thjat', 'thoda', 'thodi', 'thoraipakkam', 'thoroughly', 'those', 'though', 'thought', 'thoughtful', 'thoughtfulness', 'thousand', 'three', 'thrice', 'thrilling', 'thrive', 'thro', 'through', 'throughout', 'throw', 'thru', 'tht', 'thulasi', 'thursday', 'thus', 'ti', 'ticked', 'ticket', 'tickets', 'tidy', 'tie', 'tiffen', 'tiffin', 'tight', 'tile', 'tiles', 'till', 'time', 'timed', 'timely', 'times', 'timetaken', 'timing', 'timings', 'tiniest', 'tiny', 'tip', 'tips', 'tired', 'tiresome', 'tirupati', 'tiruvallur', 'tissue', 'tissues', 'titanic', 'title', 'tnagar', 'to', 'toast', 'toasted', 'tobacco', 'together', 'toh', 'toilet', 'toiletrie', 'toiletries', 'toiletry', 'toilets', 'told', 'toll', 'tomorrow', 'tongue', 'too', 'took', 'tooooo', 'toooooooooooooo', 'tooth', 'toothbrush', 'toothpaste', 'top', 'topper', 'torn', 'torned', 'torso', 'total', 'totality', 'totalling', 'totally', 'tottaly', 'toty', 'touch', 'touching', 'tough', 'tour', 'touring', 'tourist', 'tourists', 'tours', 'towards', 'towel', 'towels', 'tower', 'towers', 'town', 'traceable', 'traces', 'track', 'trade', 'trading', 'tradition', 'traditional', 'traffic', 'train', 'trained', 'trainees', 'trainer', 'training', 'trainings', 'trains', 'tramping', 'tranportation', 'transfer', 'transfers', 'transit', 'transition', 'transits', 'translation', 'transparent', 'transport', 'transportation', 'transports', 'trapped', 'trasfort', 'trash', 'travel', 'traveled', 'traveler', 'travelers', 'traveling', 'travelled', 'traveller', 'travellers', 'travelling', 'travels', 'tray', 'treadmill', 'treadmills', 'treat', 'treated', 'treating', 'treatment', 'treats', 'tree', 'treebo', 'trees', 'trek', 'trend', 'trends', 'triathlon', 'trident', 'tried', 'tries', 'trip', 'triple', 'trips', 'trivago', 'trouble', 'troubling', 'trucks', 'truly', 'trust', 'trusting', 'try', 'trying', 'ttdc', 'tub', 'tube', 'tucked', 'tuk', 'tuned', 'turn', 'turned', 'turning', 'turns', 'turyaa', 'tv', 'tvs', 'twice', 'twin', 'twins', 'two', 'ty', 'tyd', 'type', 'types', 'typical', 'typically', 'uber', 'ugghh', 'ugly', 'uhh', 'ujhybnkiuj', 'ull', 'ultimate', 'ultimately', 'ultra', 'un', 'unable', 'unaccommodating', 'unattended', 'unavailability', 'unavoidable', 'unaware', 'unbeatable', 'unbelievable', 'unclean', 'uncleanliness', 'uncomfortable', 'uncommon', 'uncooked', 'uncooperative', 'under', 'underbelly', 'undergoing', 'understaffed', 'understand', 'understanding', 'understsnding', 'uneasy', 'unedible', 'unexpected', 'unexpectedly', 'unfit', 'unforgetable', 'unforgettable', 'unfortunate', 'unfortunately', 'unfriendly', 'unhappy', 'unheard', 'unhelpful', 'unhygenic', 'unhygienic', 'uniform', 'uninhabitable', 'unique', 'university', 'unkempt', 'unkind', 'unless', 'unlike', 'unlimited', 'unlocked', 'unnecessarily', 'unnecessary', 'unnoticed', 'unorganized', 'unparalleled', 'unplanned', 'unpleasant', 'unpleasing', 'unprofessional', 'unreliable', 'unsafe', 'unsatisfaction', 'unsatisfactory', 'unsealed', 'unstable', 'untidy', 'until', 'untracked', 'untrained', 'unusable', 'unusual', 'unwashed', 'unwelcome', 'unwind', 'up', 'upcoming', 'update', 'updated', 'updates', 'updating', 'upgrade', 'upgraded', 'upgrades', 'upkeep', 'upma', 'upon', 'upper', 'ups', 'upset', 'upsets', 'upside', 'upstairs', 'upto', 'ur', 'urban', 'urgent', 'urgently', 'us', 'usa', 'usage', 'usb', 'usd', 'use', 'useable', 'used', 'useful', 'useless', 'user', 'users', 'using', 'usman', 'usp', 'usual', 'usually', 'utilities', 'utilization', 'utilize', 'utmost', 'utpam', 'utter', 'utterly', 'uygviub', 'vac', 'vacancy', 'vacate', 'vacated', 'vacating', 'vacation', 'vacuumed', 'vada', 'vadapalani', 'vain', 'valet', 'valid', 'valley', 'valuable', 'value', 'valued', 'values', 'vamsi', 'vanakkam', 'vanity', 'vardah', 'varied', 'varies', 'varieties', 'variety', 'various', 'varities', 'varriety', 'varuval', 'vary', 'vas', 'vaze', 'vclean', 've', 'veg', 'vegan', 'vegans', 'vegetarian', 'vegetarians', 'vehicle', 'vehicles', 'vellat', 'vendors', 'ventilated', 'ventilation', 'venture', 'venue', 'venues', 'veranda', 'verity', 'versa', 'version', 'vert', 'verv', 'very', 'verygood', 'verynice', 'ves', 'vestin', 'vfdsfsdfgdgdsgsdgsdddddddgfggfjjjjjjjjjjjjjjjjjjjjjjjjjjjjjjjjjjjjjjjjjjjjjjjjjjjjjjjjjjjjjjjjjjjjjjjjjjjjjjjjjjjjjjjjjjjjjjjjjjjjjjjjjjjjjjjjjjjjjjjjjjjjjjjjjjjjjjjjjjjjjjjjjjjjjjjjjjjjjjjjjjjjjjjjjjjjjjjjjjjjjjjjjjjjjjjjjjjjjjjjjjjjjjjjjjjjjjjjjjjjjjjjjjjjj', 'vfm', 'vg', 'vgp', 'via', 'viable', 'vice', 'vicinity', 'victoria', 'view', 'views', 'vigorish', 'vijay', 'vijaya', 'vikings', 'villa', 'villas', 'vince', 'vinod', 'vintage', 'vip', 'vips', 'visa', 'visas', 'visible', 'vising', 'visist', 'visit', 'visited', 'visiting', 'visitor', 'visitors', 'visits', 'vistit', 'vmlfmvofmvofmvofvmfmvofmvmfmvfmvmfmlifmgmflgfgagfkgksfdkgl', 'volley', 'volume', 'vomit', 'voucher', 'vry', 'vvhhhbbhbbbbhbbhb', 'vvvvbbbbbbbbbbb', 'waa', 'wada', 'wait', 'waited', 'waiter', 'waiters', 'waiting', 'waits', 'wake', 'wala', 'walk', 'walkable', 'walked', 'walking', 'wall', 'wallace', 'wallet', 'walls', 'wanna', 'want', 'wanted', 'wanting', 'wants', 'wardrobe', 'warm', 'warmer', 'warmly', 'warmth', 'warning', 'was', 'wash', 'washbasin', 'washbasins', 'washed', 'washing', 'washroom', 'washrooms', 'wasn', 'wasnt', 'wasntwe', 'wasome', 'wastage', 'waste', 'wasted', 'wasting', 'wat', 'watch', 'watching', 'water', 'waterfall', 'watering', 'waters', 'way', 'ways', 'wc', 'wciwelbc', 'we', 'weak', 'weaker', 'wear', 'wearing', 'weather', 'web', 'website', 'websites', 'wedding', 'week', 'weekend', 'weekends', 'weeks', 'wehcbwec', 'weird', 'weirdly', 'wel', 'welcome', 'welcomed', 'welcoming', 'well', 'went', 'were', 'weren', 'wering', 'west', 'western', 'westerners', 'westin', 'wet', 'wexcellent', 'wff', 'what', 'whatever', 'whch', 'wheeler', 'when', 'whenever', 'whenver', 'where', 'whereas', 'wherein', 'whether', 'which', 'while', 'white', 'who', 'whole', 'wholesome', 'whom', 'why', 'wi', 'wide', 'widespread', 'wife', 'wifi', 'will', 'willing', 'willingness', 'window', 'windows', 'wine', 'winter', 'wiped', 'wise', 'wish', 'wished', 'wishes', 'wit', 'with', 'within', 'without', 'witj', 'wnt', 'woh', 'woke', 'woman', 'won', 'wonderful', 'wont', 'wood', 'wooden', 'woodland', 'woodlands', 'woods', 'word', 'words', 'wore', 'work', 'worked', 'workers', 'working', 'workout', 'workouts', 'workplace', 'works', 'world', 'worms', 'worn', 'worried', 'worries', 'worry', 'worrying', 'worse', 'worst', 'worth', 'worthless', 'worthy', 'would', 'wouldn', 'wow', 'write', 'writing', 'written', 'wrong', 'wry', 'ws', 'wud', 'xmas', 'xxxxxx', 'xxxxxxx', 'xxxxxxxxxxxxxxxxxxx', 'yaatra', 'yacht', 'yaha', 'yards', 'yaru', 'yeah', 'year', 'years', 'yellow', 'yes', 'yet', 'yg', 'ygyugiguug', 'yhbufu', 'yhgktrh', 'yoga', 'you', 'younger', 'your', 'yourself', 'yourselves', 'yr', 'yrs', 'ysbut', 'yukkk', 'yum', 'yummacious', 'yummy', 'yyy', 'zama', 'zero', 'zinc', 'zodiac', 'zone', 'zones', 'zoo', 'économiq']\n"
     ]
    }
   ],
   "source": [
    "print(vectorizer.get_feature_names())"
   ]
  },
  {
   "cell_type": "code",
   "execution_count": 33,
   "metadata": {},
   "outputs": [],
   "source": [
    "X = vectorizer.fit_transform(text_data.Review_Text)"
   ]
  },
  {
   "cell_type": "code",
   "execution_count": 34,
   "metadata": {},
   "outputs": [],
   "source": [
    "X = X.toarray()"
   ]
  },
  {
   "cell_type": "code",
   "execution_count": 35,
   "metadata": {},
   "outputs": [
    {
     "data": {
      "text/plain": [
       "(4703, 6029)"
      ]
     },
     "execution_count": 35,
     "metadata": {},
     "output_type": "execute_result"
    }
   ],
   "source": [
    "X.shape"
   ]
  },
  {
   "cell_type": "code",
   "execution_count": 36,
   "metadata": {},
   "outputs": [],
   "source": [
    "y = text_data['Sentiment'].tolist()"
   ]
  },
  {
   "cell_type": "code",
   "execution_count": 37,
   "metadata": {},
   "outputs": [],
   "source": [
    "#Train test split\n",
    "\n",
    "X_train , X_test, y_train, y_test = train_test_split(X, y, test_size=0.33)"
   ]
  },
  {
   "cell_type": "code",
   "execution_count": 38,
   "metadata": {},
   "outputs": [
    {
     "data": {
      "text/plain": [
       "[0,\n",
       " 1,\n",
       " 1,\n",
       " 1,\n",
       " 0,\n",
       " 1,\n",
       " 1,\n",
       " 1,\n",
       " 0,\n",
       " 1,\n",
       " 1,\n",
       " 1,\n",
       " 1,\n",
       " 0,\n",
       " 1,\n",
       " 0,\n",
       " 1,\n",
       " 1,\n",
       " 1,\n",
       " 1,\n",
       " 1,\n",
       " 1,\n",
       " 1,\n",
       " 1,\n",
       " 1,\n",
       " 1,\n",
       " 1,\n",
       " 0,\n",
       " 1,\n",
       " 1,\n",
       " 0,\n",
       " 1,\n",
       " 1,\n",
       " 0,\n",
       " 1,\n",
       " 1,\n",
       " 1,\n",
       " 1,\n",
       " 0,\n",
       " 1,\n",
       " 0,\n",
       " 1,\n",
       " 1,\n",
       " 0,\n",
       " 0,\n",
       " 0,\n",
       " 1,\n",
       " 1,\n",
       " 1,\n",
       " 1,\n",
       " 1,\n",
       " 1,\n",
       " 1,\n",
       " 1,\n",
       " 1,\n",
       " 1,\n",
       " 1,\n",
       " 1,\n",
       " 0,\n",
       " 1,\n",
       " 1,\n",
       " 1,\n",
       " 1,\n",
       " 0,\n",
       " 1,\n",
       " 0,\n",
       " 1,\n",
       " 1,\n",
       " 1,\n",
       " 0,\n",
       " 1,\n",
       " 0,\n",
       " 1,\n",
       " 1,\n",
       " 0,\n",
       " 1,\n",
       " 1,\n",
       " 1,\n",
       " 1,\n",
       " 1,\n",
       " 1,\n",
       " 1,\n",
       " 0,\n",
       " 0,\n",
       " 1,\n",
       " 1,\n",
       " 1,\n",
       " 0,\n",
       " 1,\n",
       " 0,\n",
       " 1,\n",
       " 0,\n",
       " 1,\n",
       " 1,\n",
       " 0,\n",
       " 1,\n",
       " 1,\n",
       " 0,\n",
       " 1,\n",
       " 1,\n",
       " 0,\n",
       " 1,\n",
       " 1,\n",
       " 1,\n",
       " 0,\n",
       " 1,\n",
       " 1,\n",
       " 0,\n",
       " 1,\n",
       " 0,\n",
       " 0,\n",
       " 1,\n",
       " 1,\n",
       " 1,\n",
       " 1,\n",
       " 1,\n",
       " 1,\n",
       " 1,\n",
       " 1,\n",
       " 0,\n",
       " 1,\n",
       " 1,\n",
       " 1,\n",
       " 1,\n",
       " 1,\n",
       " 1,\n",
       " 1,\n",
       " 1,\n",
       " 1,\n",
       " 0,\n",
       " 1,\n",
       " 1,\n",
       " 0,\n",
       " 1,\n",
       " 1,\n",
       " 1,\n",
       " 1,\n",
       " 0,\n",
       " 1,\n",
       " 1,\n",
       " 1,\n",
       " 1,\n",
       " 1,\n",
       " 1,\n",
       " 1,\n",
       " 0,\n",
       " 1,\n",
       " 1,\n",
       " 0,\n",
       " 1,\n",
       " 1,\n",
       " 1,\n",
       " 0,\n",
       " 1,\n",
       " 0,\n",
       " 1,\n",
       " 1,\n",
       " 1,\n",
       " 1,\n",
       " 0,\n",
       " 1,\n",
       " 1,\n",
       " 1,\n",
       " 1,\n",
       " 1,\n",
       " 1,\n",
       " 1,\n",
       " 1,\n",
       " 1,\n",
       " 1,\n",
       " 0,\n",
       " 0,\n",
       " 1,\n",
       " 0,\n",
       " 1,\n",
       " 1,\n",
       " 0,\n",
       " 1,\n",
       " 1,\n",
       " 1,\n",
       " 0,\n",
       " 1,\n",
       " 1,\n",
       " 1,\n",
       " 1,\n",
       " 1,\n",
       " 1,\n",
       " 1,\n",
       " 1,\n",
       " 0,\n",
       " 1,\n",
       " 0,\n",
       " 1,\n",
       " 1,\n",
       " 1,\n",
       " 1,\n",
       " 1,\n",
       " 1,\n",
       " 0,\n",
       " 1,\n",
       " 1,\n",
       " 1,\n",
       " 1,\n",
       " 0,\n",
       " 1,\n",
       " 0,\n",
       " 1,\n",
       " 1,\n",
       " 0,\n",
       " 1,\n",
       " 0,\n",
       " 1,\n",
       " 1,\n",
       " 1,\n",
       " 1,\n",
       " 0,\n",
       " 0,\n",
       " 1,\n",
       " 1,\n",
       " 1,\n",
       " 1,\n",
       " 0,\n",
       " 1,\n",
       " 1,\n",
       " 1,\n",
       " 1,\n",
       " 1,\n",
       " 1,\n",
       " 1,\n",
       " 1,\n",
       " 1,\n",
       " 1,\n",
       " 1,\n",
       " 1,\n",
       " 1,\n",
       " 1,\n",
       " 0,\n",
       " 1,\n",
       " 1,\n",
       " 1,\n",
       " 1,\n",
       " 1,\n",
       " 1,\n",
       " 1,\n",
       " 0,\n",
       " 1,\n",
       " 1,\n",
       " 0,\n",
       " 1,\n",
       " 1,\n",
       " 1,\n",
       " 0,\n",
       " 1,\n",
       " 1,\n",
       " 0,\n",
       " 1,\n",
       " 1,\n",
       " 1,\n",
       " 1,\n",
       " 1,\n",
       " 0,\n",
       " 1,\n",
       " 1,\n",
       " 1,\n",
       " 1,\n",
       " 1,\n",
       " 1,\n",
       " 1,\n",
       " 1,\n",
       " 1,\n",
       " 1,\n",
       " 0,\n",
       " 1,\n",
       " 1,\n",
       " 1,\n",
       " 1,\n",
       " 0,\n",
       " 1,\n",
       " 0,\n",
       " 1,\n",
       " 1,\n",
       " 1,\n",
       " 1,\n",
       " 1,\n",
       " 0,\n",
       " 1,\n",
       " 1,\n",
       " 1,\n",
       " 0,\n",
       " 1,\n",
       " 1,\n",
       " 1,\n",
       " 1,\n",
       " 1,\n",
       " 1,\n",
       " 1,\n",
       " 1,\n",
       " 1,\n",
       " 1,\n",
       " 1,\n",
       " 1,\n",
       " 1,\n",
       " 1,\n",
       " 1,\n",
       " 1,\n",
       " 0,\n",
       " 0,\n",
       " 0,\n",
       " 1,\n",
       " 1,\n",
       " 1,\n",
       " 1,\n",
       " 1,\n",
       " 1,\n",
       " 0,\n",
       " 1,\n",
       " 1,\n",
       " 0,\n",
       " 1,\n",
       " 0,\n",
       " 1,\n",
       " 1,\n",
       " 1,\n",
       " 1,\n",
       " 1,\n",
       " 1,\n",
       " 0,\n",
       " 1,\n",
       " 1,\n",
       " 1,\n",
       " 1,\n",
       " 1,\n",
       " 0,\n",
       " 1,\n",
       " 0,\n",
       " 1,\n",
       " 1,\n",
       " 0,\n",
       " 0,\n",
       " 0,\n",
       " 1,\n",
       " 1,\n",
       " 1,\n",
       " 0,\n",
       " 0,\n",
       " 0,\n",
       " 1,\n",
       " 0,\n",
       " 0,\n",
       " 0,\n",
       " 1,\n",
       " 0,\n",
       " 1,\n",
       " 1,\n",
       " 1,\n",
       " 1,\n",
       " 1,\n",
       " 1,\n",
       " 1,\n",
       " 1,\n",
       " 1,\n",
       " 1,\n",
       " 0,\n",
       " 0,\n",
       " 1,\n",
       " 0,\n",
       " 0,\n",
       " 0,\n",
       " 0,\n",
       " 1,\n",
       " 1,\n",
       " 1,\n",
       " 1,\n",
       " 1,\n",
       " 1,\n",
       " 1,\n",
       " 1,\n",
       " 1,\n",
       " 1,\n",
       " 1,\n",
       " 1,\n",
       " 0,\n",
       " 1,\n",
       " 1,\n",
       " 1,\n",
       " 1,\n",
       " 1,\n",
       " 0,\n",
       " 1,\n",
       " 1,\n",
       " 1,\n",
       " 0,\n",
       " 1,\n",
       " 1,\n",
       " 0,\n",
       " 1,\n",
       " 1,\n",
       " 1,\n",
       " 0,\n",
       " 1,\n",
       " 1,\n",
       " 1,\n",
       " 1,\n",
       " 1,\n",
       " 1,\n",
       " 1,\n",
       " 1,\n",
       " 0,\n",
       " 0,\n",
       " 1,\n",
       " 0,\n",
       " 1,\n",
       " 1,\n",
       " 0,\n",
       " 1,\n",
       " 1,\n",
       " 0,\n",
       " 1,\n",
       " 0,\n",
       " 0,\n",
       " 1,\n",
       " 0,\n",
       " 0,\n",
       " 1,\n",
       " 1,\n",
       " 1,\n",
       " 1,\n",
       " 1,\n",
       " 1,\n",
       " 0,\n",
       " 0,\n",
       " 1,\n",
       " 1,\n",
       " 0,\n",
       " 1,\n",
       " 0,\n",
       " 1,\n",
       " 1,\n",
       " 1,\n",
       " 1,\n",
       " 0,\n",
       " 1,\n",
       " 1,\n",
       " 1,\n",
       " 0,\n",
       " 1,\n",
       " 1,\n",
       " 1,\n",
       " 1,\n",
       " 1,\n",
       " 1,\n",
       " 1,\n",
       " 0,\n",
       " 1,\n",
       " 1,\n",
       " 1,\n",
       " 1,\n",
       " 1,\n",
       " 1,\n",
       " 1,\n",
       " 0,\n",
       " 0,\n",
       " 1,\n",
       " 0,\n",
       " 1,\n",
       " 1,\n",
       " 0,\n",
       " 0,\n",
       " 1,\n",
       " 1,\n",
       " 1,\n",
       " 1,\n",
       " 1,\n",
       " 1,\n",
       " 0,\n",
       " 0,\n",
       " 1,\n",
       " 1,\n",
       " 1,\n",
       " 1,\n",
       " 1,\n",
       " 0,\n",
       " 1,\n",
       " 1,\n",
       " 1,\n",
       " 1,\n",
       " 0,\n",
       " 1,\n",
       " 0,\n",
       " 0,\n",
       " 1,\n",
       " 1,\n",
       " 1,\n",
       " 1,\n",
       " 1,\n",
       " 1,\n",
       " 1,\n",
       " 1,\n",
       " 1,\n",
       " 1,\n",
       " 1,\n",
       " 0,\n",
       " 1,\n",
       " 1,\n",
       " 0,\n",
       " 1,\n",
       " 1,\n",
       " 0,\n",
       " 1,\n",
       " 0,\n",
       " 1,\n",
       " 1,\n",
       " 0,\n",
       " 0,\n",
       " 1,\n",
       " 1,\n",
       " 1,\n",
       " 1,\n",
       " 1,\n",
       " 0,\n",
       " 1,\n",
       " 1,\n",
       " 0,\n",
       " 1,\n",
       " 1,\n",
       " 1,\n",
       " 0,\n",
       " 0,\n",
       " 1,\n",
       " 0,\n",
       " 1,\n",
       " 1,\n",
       " 0,\n",
       " 1,\n",
       " 1,\n",
       " 0,\n",
       " 1,\n",
       " 0,\n",
       " 1,\n",
       " 0,\n",
       " 1,\n",
       " 1,\n",
       " 1,\n",
       " 1,\n",
       " 1,\n",
       " 1,\n",
       " 1,\n",
       " 1,\n",
       " 0,\n",
       " 1,\n",
       " 1,\n",
       " 0,\n",
       " 0,\n",
       " 1,\n",
       " 1,\n",
       " 1,\n",
       " 0,\n",
       " 1,\n",
       " 0,\n",
       " 0,\n",
       " 0,\n",
       " 0,\n",
       " 1,\n",
       " 1,\n",
       " 0,\n",
       " 0,\n",
       " 1,\n",
       " 1,\n",
       " 1,\n",
       " 1,\n",
       " 1,\n",
       " 1,\n",
       " 1,\n",
       " 0,\n",
       " 1,\n",
       " 1,\n",
       " 1,\n",
       " 1,\n",
       " 1,\n",
       " 0,\n",
       " 0,\n",
       " 0,\n",
       " 0,\n",
       " 0,\n",
       " 1,\n",
       " 1,\n",
       " 0,\n",
       " 0,\n",
       " 1,\n",
       " 1,\n",
       " 1,\n",
       " 0,\n",
       " 1,\n",
       " 0,\n",
       " 1,\n",
       " 1,\n",
       " 1,\n",
       " 1,\n",
       " 1,\n",
       " 1,\n",
       " 1,\n",
       " 1,\n",
       " 1,\n",
       " 0,\n",
       " 1,\n",
       " 1,\n",
       " 0,\n",
       " 1,\n",
       " 1,\n",
       " 1,\n",
       " 0,\n",
       " 1,\n",
       " 1,\n",
       " 1,\n",
       " 1,\n",
       " 1,\n",
       " 0,\n",
       " 1,\n",
       " 1,\n",
       " 0,\n",
       " 1,\n",
       " 0,\n",
       " 1,\n",
       " 1,\n",
       " 1,\n",
       " 1,\n",
       " 1,\n",
       " 1,\n",
       " 1,\n",
       " 0,\n",
       " 1,\n",
       " 1,\n",
       " 0,\n",
       " 0,\n",
       " 1,\n",
       " 1,\n",
       " 1,\n",
       " 1,\n",
       " 1,\n",
       " 1,\n",
       " 1,\n",
       " 1,\n",
       " 1,\n",
       " 1,\n",
       " 0,\n",
       " 1,\n",
       " 1,\n",
       " 0,\n",
       " 1,\n",
       " 1,\n",
       " 1,\n",
       " 0,\n",
       " 1,\n",
       " 1,\n",
       " 1,\n",
       " 1,\n",
       " 1,\n",
       " 1,\n",
       " 1,\n",
       " 1,\n",
       " 0,\n",
       " 0,\n",
       " 1,\n",
       " 1,\n",
       " 1,\n",
       " 0,\n",
       " 1,\n",
       " 1,\n",
       " 1,\n",
       " 0,\n",
       " 1,\n",
       " 1,\n",
       " 1,\n",
       " 0,\n",
       " 1,\n",
       " 1,\n",
       " 1,\n",
       " 1,\n",
       " 1,\n",
       " 1,\n",
       " 1,\n",
       " 0,\n",
       " 1,\n",
       " 1,\n",
       " 0,\n",
       " 1,\n",
       " 0,\n",
       " 1,\n",
       " 1,\n",
       " 1,\n",
       " 1,\n",
       " 1,\n",
       " 0,\n",
       " 1,\n",
       " 0,\n",
       " 1,\n",
       " 1,\n",
       " 1,\n",
       " 0,\n",
       " 1,\n",
       " 1,\n",
       " 1,\n",
       " 0,\n",
       " 1,\n",
       " 1,\n",
       " 1,\n",
       " 0,\n",
       " 0,\n",
       " 0,\n",
       " 1,\n",
       " 1,\n",
       " 1,\n",
       " 0,\n",
       " 1,\n",
       " 1,\n",
       " 1,\n",
       " 1,\n",
       " 1,\n",
       " 1,\n",
       " 1,\n",
       " 1,\n",
       " 0,\n",
       " 1,\n",
       " 0,\n",
       " 1,\n",
       " 0,\n",
       " 1,\n",
       " 1,\n",
       " 0,\n",
       " 1,\n",
       " 1,\n",
       " 1,\n",
       " 0,\n",
       " 1,\n",
       " 1,\n",
       " 0,\n",
       " 1,\n",
       " 1,\n",
       " 1,\n",
       " 1,\n",
       " 1,\n",
       " 1,\n",
       " 0,\n",
       " 0,\n",
       " 0,\n",
       " 1,\n",
       " 1,\n",
       " 1,\n",
       " 1,\n",
       " 0,\n",
       " 0,\n",
       " 1,\n",
       " 1,\n",
       " 1,\n",
       " 0,\n",
       " 1,\n",
       " 1,\n",
       " 1,\n",
       " 0,\n",
       " 1,\n",
       " 0,\n",
       " 1,\n",
       " 1,\n",
       " 0,\n",
       " 0,\n",
       " 1,\n",
       " 1,\n",
       " 1,\n",
       " 0,\n",
       " 1,\n",
       " 1,\n",
       " 1,\n",
       " 1,\n",
       " 0,\n",
       " 1,\n",
       " 1,\n",
       " 1,\n",
       " 1,\n",
       " 1,\n",
       " 1,\n",
       " 1,\n",
       " 1,\n",
       " 1,\n",
       " 0,\n",
       " 1,\n",
       " 1,\n",
       " 1,\n",
       " 1,\n",
       " 1,\n",
       " 0,\n",
       " 1,\n",
       " 1,\n",
       " 1,\n",
       " 0,\n",
       " 1,\n",
       " 1,\n",
       " 1,\n",
       " 1,\n",
       " 1,\n",
       " 1,\n",
       " 1,\n",
       " 1,\n",
       " 1,\n",
       " 1,\n",
       " 1,\n",
       " 1,\n",
       " 0,\n",
       " 0,\n",
       " 1,\n",
       " 1,\n",
       " 1,\n",
       " 1,\n",
       " 1,\n",
       " 1,\n",
       " 0,\n",
       " 1,\n",
       " 0,\n",
       " 1,\n",
       " 0,\n",
       " 1,\n",
       " 1,\n",
       " 0,\n",
       " 1,\n",
       " 1,\n",
       " 1,\n",
       " 0,\n",
       " 1,\n",
       " 1,\n",
       " 1,\n",
       " 0,\n",
       " 0,\n",
       " 0,\n",
       " 1,\n",
       " 1,\n",
       " 1,\n",
       " 0,\n",
       " 1,\n",
       " 1,\n",
       " 1,\n",
       " 0,\n",
       " 1,\n",
       " 1,\n",
       " 1,\n",
       " 1,\n",
       " 1,\n",
       " 1,\n",
       " 1,\n",
       " 1,\n",
       " 1,\n",
       " 1,\n",
       " 0,\n",
       " 1,\n",
       " 1,\n",
       " 1,\n",
       " 1,\n",
       " 1,\n",
       " 1,\n",
       " 1,\n",
       " 1,\n",
       " 1,\n",
       " 1,\n",
       " 1,\n",
       " 1,\n",
       " 1,\n",
       " 0,\n",
       " 1,\n",
       " 1,\n",
       " 0,\n",
       " 1,\n",
       " 0,\n",
       " 1,\n",
       " 1,\n",
       " 0,\n",
       " 1,\n",
       " 1,\n",
       " 0,\n",
       " 1,\n",
       " 1,\n",
       " 0,\n",
       " 1,\n",
       " 0,\n",
       " 1,\n",
       " 0,\n",
       " 1,\n",
       " 1,\n",
       " 0,\n",
       " 1,\n",
       " 0,\n",
       " 1,\n",
       " 1,\n",
       " 1,\n",
       " 1,\n",
       " 0,\n",
       " 0,\n",
       " 1,\n",
       " 1,\n",
       " 1,\n",
       " 0,\n",
       " 0,\n",
       " 0,\n",
       " 1,\n",
       " 1,\n",
       " 1,\n",
       " 1,\n",
       " 1,\n",
       " 1,\n",
       " 1,\n",
       " 1,\n",
       " 0,\n",
       " 0,\n",
       " 0,\n",
       " 1,\n",
       " 1,\n",
       " 1,\n",
       " 1,\n",
       " 1,\n",
       " 1,\n",
       " 0,\n",
       " 1,\n",
       " 1,\n",
       " 1,\n",
       " 1,\n",
       " 1,\n",
       " 1,\n",
       " 1,\n",
       " 1,\n",
       " 0,\n",
       " 1,\n",
       " 1,\n",
       " 1,\n",
       " 1,\n",
       " 0,\n",
       " 1,\n",
       " 1,\n",
       " 1,\n",
       " 1,\n",
       " 1,\n",
       " 1,\n",
       " 1,\n",
       " 0,\n",
       " 1,\n",
       " 1,\n",
       " 1,\n",
       " 1,\n",
       " 1,\n",
       " 1,\n",
       " 1,\n",
       " 1,\n",
       " 1,\n",
       " 0,\n",
       " 1,\n",
       " 1,\n",
       " 1,\n",
       " 0,\n",
       " 1,\n",
       " 1,\n",
       " 1,\n",
       " 1,\n",
       " 1,\n",
       " 1,\n",
       " 0,\n",
       " 1,\n",
       " 0,\n",
       " 1,\n",
       " 0,\n",
       " 1,\n",
       " 1,\n",
       " 1,\n",
       " 1,\n",
       " 1,\n",
       " 0,\n",
       " 1,\n",
       " 0,\n",
       " 1,\n",
       " 1,\n",
       " 1,\n",
       " 1,\n",
       " 1,\n",
       " 1,\n",
       " 1,\n",
       " 0,\n",
       " 1,\n",
       " 1,\n",
       " 1,\n",
       " 1,\n",
       " 1,\n",
       " 1,\n",
       " 0,\n",
       " 1,\n",
       " 1,\n",
       " 1,\n",
       " 0,\n",
       " 1,\n",
       " 0,\n",
       " 0,\n",
       " 0,\n",
       " 1,\n",
       " 0,\n",
       " 1,\n",
       " 1,\n",
       " ...]"
      ]
     },
     "execution_count": 38,
     "metadata": {},
     "output_type": "execute_result"
    }
   ],
   "source": [
    "y_train"
   ]
  },
  {
   "cell_type": "markdown",
   "metadata": {},
   "source": [
    "# LogisticRegression"
   ]
  },
  {
   "cell_type": "code",
   "execution_count": 39,
   "metadata": {},
   "outputs": [
    {
     "name": "stdout",
     "output_type": "stream",
     "text": [
      "Accuracy for C=0.01: 0.8099226804123711\n",
      "Accuracy for C=0.05: 0.8447164948453608\n"
     ]
    },
    {
     "name": "stderr",
     "output_type": "stream",
     "text": [
      "C:\\Users\\kishan\\AppData\\Roaming\\Python\\Python36\\site-packages\\sklearn\\linear_model\\_logistic.py:940: ConvergenceWarning: lbfgs failed to converge (status=1):\n",
      "STOP: TOTAL NO. of ITERATIONS REACHED LIMIT.\n",
      "\n",
      "Increase the number of iterations (max_iter) or scale the data as shown in:\n",
      "    https://scikit-learn.org/stable/modules/preprocessing.html\n",
      "Please also refer to the documentation for alternative solver options:\n",
      "    https://scikit-learn.org/stable/modules/linear_model.html#logistic-regression\n",
      "  extra_warning_msg=_LOGISTIC_SOLVER_CONVERGENCE_MSG)\n"
     ]
    },
    {
     "name": "stdout",
     "output_type": "stream",
     "text": [
      "Accuracy for C=0.25: 0.8704896907216495\n"
     ]
    },
    {
     "name": "stderr",
     "output_type": "stream",
     "text": [
      "C:\\Users\\kishan\\AppData\\Roaming\\Python\\Python36\\site-packages\\sklearn\\linear_model\\_logistic.py:940: ConvergenceWarning: lbfgs failed to converge (status=1):\n",
      "STOP: TOTAL NO. of ITERATIONS REACHED LIMIT.\n",
      "\n",
      "Increase the number of iterations (max_iter) or scale the data as shown in:\n",
      "    https://scikit-learn.org/stable/modules/preprocessing.html\n",
      "Please also refer to the documentation for alternative solver options:\n",
      "    https://scikit-learn.org/stable/modules/linear_model.html#logistic-regression\n",
      "  extra_warning_msg=_LOGISTIC_SOLVER_CONVERGENCE_MSG)\n"
     ]
    },
    {
     "name": "stdout",
     "output_type": "stream",
     "text": [
      "Accuracy for C=0.5: 0.8692010309278351\n",
      "Accuracy for C=1: 0.8653350515463918\n"
     ]
    },
    {
     "name": "stderr",
     "output_type": "stream",
     "text": [
      "C:\\Users\\kishan\\AppData\\Roaming\\Python\\Python36\\site-packages\\sklearn\\linear_model\\_logistic.py:940: ConvergenceWarning: lbfgs failed to converge (status=1):\n",
      "STOP: TOTAL NO. of ITERATIONS REACHED LIMIT.\n",
      "\n",
      "Increase the number of iterations (max_iter) or scale the data as shown in:\n",
      "    https://scikit-learn.org/stable/modules/preprocessing.html\n",
      "Please also refer to the documentation for alternative solver options:\n",
      "    https://scikit-learn.org/stable/modules/linear_model.html#logistic-regression\n",
      "  extra_warning_msg=_LOGISTIC_SOLVER_CONVERGENCE_MSG)\n"
     ]
    }
   ],
   "source": [
    "from sklearn.linear_model import LogisticRegression\n",
    "from sklearn.metrics import accuracy_score\n",
    "\n",
    "for c in [0.01, 0.05, 0.25, 0.5, 1]:\n",
    "    \n",
    "    lr = LogisticRegression(C=c)\n",
    "    lr.fit(X_train, y_train)\n",
    "    print (\"Accuracy for C=%s: %s\" \n",
    "           % (c, accuracy_score(y_test, lr.predict(X_test))))"
   ]
  },
  {
   "cell_type": "code",
   "execution_count": 41,
   "metadata": {},
   "outputs": [
    {
     "name": "stdout",
     "output_type": "stream",
     "text": [
      "[1]\n"
     ]
    }
   ],
   "source": [
    "tweet = \"this is staff is very helpful\"\n",
    "test = lr.predict(vectorizer.transform([tweet]).toarray())\n",
    "print(test)"
   ]
  },
  {
   "cell_type": "code",
   "execution_count": 42,
   "metadata": {},
   "outputs": [],
   "source": [
    "feature_to_coef = {\n",
    "    word: coef for word, coef in zip(\n",
    "        vectorizer.get_feature_names(), lr.coef_[0]\n",
    "    )\n",
    "}"
   ]
  },
  {
   "cell_type": "code",
   "execution_count": 43,
   "metadata": {},
   "outputs": [
    {
     "name": "stdout",
     "output_type": "stream",
     "text": [
      "('excellent', 1.7998179176818774)\n",
      "('pleasant', 1.3910045198014405)\n",
      "('business', 1.3835379558265886)\n",
      "('com', 1.3142104029137602)\n",
      "('relax', 1.2975771879882527)\n"
     ]
    }
   ],
   "source": [
    "#best positive words\n",
    "\n",
    "for best_positive in sorted(\n",
    "    feature_to_coef.items(), \n",
    "    key=lambda x: x[1], \n",
    "    reverse=True)[:5]:\n",
    "    print (best_positive)"
   ]
  },
  {
   "cell_type": "code",
   "execution_count": 44,
   "metadata": {},
   "outputs": [
    {
     "name": "stdout",
     "output_type": "stream",
     "text": [
      "('proximity', -1.466043988240336)\n",
      "('destination', -1.4567523698020828)\n",
      "('never', -1.3878634841727908)\n",
      "('reasonably', -1.324599540662551)\n",
      "('pathetic', -1.29681907569547)\n"
     ]
    }
   ],
   "source": [
    "#bad negative words\n",
    "\n",
    "for best_negative in sorted(\n",
    "    feature_to_coef.items(), \n",
    "    key=lambda x: x[1])[:5]:\n",
    "    print (best_negative)"
   ]
  },
  {
   "cell_type": "markdown",
   "metadata": {},
   "source": [
    "# Removing Stopwords"
   ]
  },
  {
   "cell_type": "code",
   "execution_count": 45,
   "metadata": {},
   "outputs": [],
   "source": [
    "from nltk.corpus import stopwords\n",
    "english_stop_words = stopwords.words('english')\n",
    "def remove_stop_words(corpus):\n",
    "    removed_stop_words = []\n",
    "    for review in corpus:\n",
    "        removed_stop_words.append(\n",
    "            ' '.join([word for word in review.split() \n",
    "                      if word not in english_stop_words])\n",
    "        )\n",
    "    return removed_stop_words\n",
    "\n",
    "no_stop_words = remove_stop_words(text_data.Review_Text)"
   ]
  },
  {
   "cell_type": "code",
   "execution_count": 46,
   "metadata": {},
   "outputs": [
    {
     "name": "stdout",
     "output_type": "stream",
     "text": [
      "['seems hotel check basic amenities room handing room traveller phone room working created problem hectic day travel would like relax work pace sent technician kept looking fix hour get room changed', 'worst hotel ever encountered never think stay thiis hotel future', 'check took mins pillows room different sizes dirty stained curtains phone next bed walk study table slow room service poor understanding international bookings work accept discover cards', 'property bit old bath tub toilets old stains white towels provided even stains dirty', 'hotel rooms quite old maintained chair cushion torn shower curtains window curtains even phone musty smell wait reception long breakfast decent location good us visa applicants', 'good lobby good place eat everything else comes way near star hotel claim rooms star hotel level disappointed thankfully booked day', 'soon entered room first thought touch anything dirty room worse cheap motel room want get close bed definitely hotel mentioned expedia close us consulate rooms bad would rather travel minutes stay', 'nobody attends phone rooms old small small outdated tv', 'great location hotel worth price charge terrible room layouts staff slow trained properly guest services pick phone call times pick spent lot time handle requests put reservation time booking', 'except heart city hotel nothing boast food tasted awful much almost ate pickle side dish breakfast room poorly lit enough make morning dull rooms unkempt falling apart']\n"
     ]
    }
   ],
   "source": [
    "print(no_stop_words[:10])"
   ]
  },
  {
   "cell_type": "markdown",
   "metadata": {},
   "source": [
    "# Normalization"
   ]
  },
  {
   "cell_type": "code",
   "execution_count": 47,
   "metadata": {},
   "outputs": [
    {
     "name": "stdout",
     "output_type": "stream",
     "text": [
      "arabic danish dutch english finnish french german hungarian italian norwegian porter portuguese romanian russian spanish swedish\n"
     ]
    }
   ],
   "source": [
    "# Stemming\n",
    "from nltk.stem.snowball import SnowballStemmer\n",
    "print(\" \".join(SnowballStemmer.languages))"
   ]
  },
  {
   "cell_type": "code",
   "execution_count": 48,
   "metadata": {},
   "outputs": [
    {
     "name": "stdout",
     "output_type": "stream",
     "text": [
      "run\n"
     ]
    }
   ],
   "source": [
    "stemmer = SnowballStemmer(\"english\")\n",
    "# testing\n",
    "print(stemmer.stem(\"running\"))"
   ]
  },
  {
   "cell_type": "code",
   "execution_count": 50,
   "metadata": {},
   "outputs": [],
   "source": [
    "str1 = ''.join(no_stop_words)"
   ]
  },
  {
   "cell_type": "code",
   "execution_count": 51,
   "metadata": {},
   "outputs": [],
   "source": [
    "from nltk.stem.snowball import SnowballStemmer\n",
    "def get_stemmed_text(corpus):\n",
    "    stemmer = SnowballStemmer('english')\n",
    "    return [' '.join([stemmer.stem(word) for word in review.split()]) for review in corpus]\n",
    "\n",
    "stemmed_reviews = get_stemmed_text(no_stop_words)"
   ]
  },
  {
   "cell_type": "code",
   "execution_count": 52,
   "metadata": {},
   "outputs": [],
   "source": [
    "# Lemmatization\n",
    "def get_lemmatized_text(corpus):\n",
    "    from nltk.stem import WordNetLemmatizer\n",
    "    lemmatizer = WordNetLemmatizer()\n",
    "    return [' '.join([lemmatizer.lemmatize(word) for word in review.split()]) for review in corpus]\n",
    "\n",
    "lemmatized_reviews = get_lemmatized_text(no_stop_words)\n"
   ]
  },
  {
   "cell_type": "code",
   "execution_count": 53,
   "metadata": {},
   "outputs": [
    {
     "name": "stdout",
     "output_type": "stream",
     "text": [
      "['seems hotel check basic amenity room handing room traveller phone room working created problem hectic day travel would like relax work pace sent technician kept looking fix hour get room changed', 'worst hotel ever encountered never think stay thiis hotel future', 'check took min pillow room different size dirty stained curtain phone next bed walk study table slow room service poor understanding international booking work accept discover card', 'property bit old bath tub toilet old stain white towel provided even stain dirty', 'hotel room quite old maintained chair cushion torn shower curtain window curtain even phone musty smell wait reception long breakfast decent location good u visa applicant', 'good lobby good place eat everything else come way near star hotel claim room star hotel level disappointed thankfully booked day', 'soon entered room first thought touch anything dirty room worse cheap motel room want get close bed definitely hotel mentioned expedia close u consulate room bad would rather travel minute stay', 'nobody attends phone room old small small outdated tv', 'great location hotel worth price charge terrible room layout staff slow trained properly guest service pick phone call time pick spent lot time handle request put reservation time booking', 'except heart city hotel nothing boast food tasted awful much almost ate pickle side dish breakfast room poorly lit enough make morning dull room unkempt falling apart']\n"
     ]
    }
   ],
   "source": [
    "print(lemmatized_reviews[:10])"
   ]
  },
  {
   "cell_type": "markdown",
   "metadata": {},
   "source": [
    "# N-Grams Method"
   ]
  },
  {
   "cell_type": "code",
   "execution_count": 54,
   "metadata": {},
   "outputs": [],
   "source": [
    "from sklearn.feature_extraction.text import CountVectorizer\n",
    "from sklearn.linear_model import LogisticRegression\n",
    "from sklearn.metrics import accuracy_score\n",
    "from sklearn.model_selection import train_test_split"
   ]
  },
  {
   "cell_type": "code",
   "execution_count": 55,
   "metadata": {},
   "outputs": [
    {
     "data": {
      "text/plain": [
       "CountVectorizer(analyzer='word', binary=True, decode_error='strict',\n",
       "                dtype=<class 'numpy.int64'>, encoding='utf-8', input='content',\n",
       "                lowercase=True, max_df=1.0, max_features=None, min_df=1,\n",
       "                ngram_range=(1, 3), preprocessor=None, stop_words=None,\n",
       "                strip_accents=None, token_pattern='(?u)\\\\b\\\\w\\\\w+\\\\b',\n",
       "                tokenizer=None, vocabulary=None)"
      ]
     },
     "execution_count": 55,
     "metadata": {},
     "output_type": "execute_result"
    }
   ],
   "source": [
    "ngram_vectorizer = CountVectorizer(binary=True, ngram_range=(1, 3))\n",
    "ngram_vectorizer.fit(text_data.Review_Text)"
   ]
  },
  {
   "cell_type": "code",
   "execution_count": 56,
   "metadata": {},
   "outputs": [],
   "source": [
    "X = ngram_vectorizer.transform(no_stop_words)\n",
    "X = X.toarray()"
   ]
  },
  {
   "cell_type": "code",
   "execution_count": 57,
   "metadata": {},
   "outputs": [],
   "source": [
    "X_train, X_test, y_train, y_test = train_test_split(X, y, train_size = 0.75)"
   ]
  },
  {
   "cell_type": "code",
   "execution_count": 58,
   "metadata": {},
   "outputs": [
    {
     "name": "stdout",
     "output_type": "stream",
     "text": [
      "Accuracy for C=0.01: 0.7899659863945578\n",
      "Accuracy for C=0.05: 0.8494897959183674\n",
      "Accuracy for C=0.25: 0.8673469387755102\n",
      "Accuracy for C=0.5: 0.8707482993197279\n",
      "Accuracy for C=1: 0.8681972789115646\n"
     ]
    }
   ],
   "source": [
    "for c in [0.01, 0.05, 0.25, 0.5, 1]:\n",
    "    \n",
    "    lr = LogisticRegression(C=c)\n",
    "    lr.fit(X_train, y_train)\n",
    "    print (\"Accuracy for C=%s: %s\" \n",
    "           % (c, accuracy_score(y_test, lr.predict(X_test))))"
   ]
  },
  {
   "cell_type": "code",
   "execution_count": 59,
   "metadata": {},
   "outputs": [
    {
     "name": "stdout",
     "output_type": "stream",
     "text": [
      "Final Accuracy: 0.8707482993197279\n"
     ]
    }
   ],
   "source": [
    "final_ngram = LogisticRegression(C=0.5)\n",
    "final_ngram.fit(X_train, y_train)\n",
    "print (\"Final Accuracy: %s\" \n",
    "       % accuracy_score(y_test, final_ngram.predict(X_test)))"
   ]
  },
  {
   "cell_type": "markdown",
   "metadata": {},
   "source": [
    "# Prediction on real data"
   ]
  },
  {
   "cell_type": "code",
   "execution_count": 60,
   "metadata": {},
   "outputs": [
    {
     "name": "stdout",
     "output_type": "stream",
     "text": [
      "[0]\n"
     ]
    }
   ],
   "source": [
    "tweet =\"staff is very bad\"\n",
    "test = final_ngram.predict(ngram_vectorizer.transform([tweet]).toarray())\n",
    "print(test)"
   ]
  },
  {
   "cell_type": "markdown",
   "metadata": {},
   "source": [
    "<b> The prediction is 0 means negative review and that is correct. </b>"
   ]
  },
  {
   "cell_type": "code",
   "execution_count": 62,
   "metadata": {},
   "outputs": [
    {
     "name": "stdout",
     "output_type": "stream",
     "text": [
      "[1]\n"
     ]
    }
   ],
   "source": [
    "tweet =\"staff is very good\"\n",
    "test = final_ngram.predict(ngram_vectorizer.transform([tweet]).toarray())\n",
    "print(test)"
   ]
  },
  {
   "cell_type": "markdown",
   "metadata": {},
   "source": [
    "<b> The prediction is 1 means positive review and that is correct. </b>"
   ]
  },
  {
   "cell_type": "code",
   "execution_count": null,
   "metadata": {},
   "outputs": [],
   "source": []
  }
 ],
 "metadata": {
  "kernelspec": {
   "display_name": "Python 3",
   "language": "python",
   "name": "python3"
  },
  "language_info": {
   "codemirror_mode": {
    "name": "ipython",
    "version": 3
   },
   "file_extension": ".py",
   "mimetype": "text/x-python",
   "name": "python",
   "nbconvert_exporter": "python",
   "pygments_lexer": "ipython3",
   "version": "3.6.5"
  }
 },
 "nbformat": 4,
 "nbformat_minor": 2
}
