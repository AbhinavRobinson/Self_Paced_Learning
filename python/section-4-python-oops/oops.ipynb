{
 "cells": [
  {
   "cell_type": "code",
   "execution_count": 65,
   "metadata": {},
   "outputs": [],
   "source": [
    "class Person():\n",
    "    # class variable (common for all objects)\n",
    "    nationality = \"indian\"\n",
    "    friends = [] # this list is commen for all object\n",
    "    def __init__(self,pname,clg):\n",
    "        # instance varaibel\n",
    "        self.name = pname\n",
    "        self.college = clg\n",
    "    def hello(self,name):\n",
    "        print(\"hello {} from {}\".format(name,self.name))\n",
    "    def addfriend(self,name):\n",
    "        self.friends.append(name)\n",
    "    # private function\n",
    "    def __private(self):\n",
    "        print(\"private introduction\")\n",
    "    def introduce(self):\n",
    "        print(\"name :\", self.name)\n",
    "        print(\"college :\", self.college)\n",
    "        print(\"nationality :\" , self.nationality)\n",
    "        print(\"friends :\" , self.friends)\n",
    "        self.__private()"
   ]
  },
  {
   "cell_type": "code",
   "execution_count": 66,
   "metadata": {},
   "outputs": [],
   "source": [
    "p = Person(\"pradyumn\",\"bennett\")"
   ]
  },
  {
   "cell_type": "code",
   "execution_count": 67,
   "metadata": {},
   "outputs": [
    {
     "name": "stdout",
     "output_type": "stream",
     "text": [
      "hello manav from pradyumn\n"
     ]
    }
   ],
   "source": [
    "p.hello(\"manav\")"
   ]
  },
  {
   "cell_type": "code",
   "execution_count": 68,
   "metadata": {},
   "outputs": [],
   "source": [
    "p.addfriend(\"manav\")"
   ]
  },
  {
   "cell_type": "code",
   "execution_count": 69,
   "metadata": {},
   "outputs": [
    {
     "name": "stdout",
     "output_type": "stream",
     "text": [
      "name : pradyumn\n",
      "college : bennett\n",
      "nationality : indian\n",
      "friends : ['manav']\n",
      "private introduction\n"
     ]
    }
   ],
   "source": [
    "p.introduce()"
   ]
  },
  {
   "cell_type": "code",
   "execution_count": 70,
   "metadata": {},
   "outputs": [],
   "source": [
    "p1 = Person(\"himanshu\",\"bennett\")"
   ]
  },
  {
   "cell_type": "code",
   "execution_count": 71,
   "metadata": {},
   "outputs": [],
   "source": [
    "# changing class variable\n",
    "p1.nationality = \"martian\" # this will now become a instance varaible for this object"
   ]
  },
  {
   "cell_type": "code",
   "execution_count": 72,
   "metadata": {},
   "outputs": [
    {
     "name": "stdout",
     "output_type": "stream",
     "text": [
      "name : himanshu\n",
      "college : bennett\n",
      "nationality : martian\n",
      "friends : ['manav']\n",
      "private introduction\n"
     ]
    }
   ],
   "source": [
    "p1.introduce()"
   ]
  },
  {
   "cell_type": "code",
   "execution_count": 73,
   "metadata": {},
   "outputs": [
    {
     "name": "stdout",
     "output_type": "stream",
     "text": [
      "name : pradyumn\n",
      "college : bennett\n",
      "nationality : indian\n",
      "friends : ['manav']\n",
      "private introduction\n"
     ]
    }
   ],
   "source": [
    "p.introduce() # the class variable is changed for this object also"
   ]
  },
  {
   "cell_type": "markdown",
   "metadata": {},
   "source": [
    "## inheritance"
   ]
  },
  {
   "cell_type": "code",
   "execution_count": 82,
   "metadata": {},
   "outputs": [],
   "source": [
    "class SchoolMember:\n",
    "    def __init__(self,name,age):\n",
    "        self.name = name\n",
    "        self.age = age\n",
    "        print(\"init school member\",self.name)\n",
    "        \n",
    "    def introduce(self):\n",
    "        print(\"name : \",self.name,\" age : \",self.age)\n",
    "        \n",
    "class Teacher(SchoolMember):\n",
    "    def __init__(self,name,age,salary):\n",
    "        SchoolMember.__init__(self,name,age)\n",
    "        self.salary = salary\n",
    "        print(\"init teacher\",self.name)\n",
    "        \n",
    "    def introduce(self):\n",
    "        SchoolMember.introduce(self)\n",
    "        print(\"salary :\",self.salary)\n",
    "        \n",
    "class School(SchoolMember):\n",
    "    def __init__(self,name,age,marks):\n",
    "        SchoolMember.__init__(self,name,age)\n",
    "        self.marks = marks\n",
    "        print(\"init school\",self.name)\n",
    "        \n",
    "    def introduce(self):\n",
    "        SchoolMember.introduce(self)\n",
    "        print(\"marks :\",self.marks)\n",
    "        \n",
    "        \n",
    "        "
   ]
  },
  {
   "cell_type": "code",
   "execution_count": 83,
   "metadata": {},
   "outputs": [
    {
     "name": "stdout",
     "output_type": "stream",
     "text": [
      "init school member vipul mishra\n",
      "init teacher vipul mishra\n"
     ]
    }
   ],
   "source": [
    "t = Teacher(\"vipul mishra\",32,400000)"
   ]
  },
  {
   "cell_type": "code",
   "execution_count": 84,
   "metadata": {},
   "outputs": [
    {
     "name": "stdout",
     "output_type": "stream",
     "text": [
      "name :  vipul mishra  age :  32\n",
      "salary : 400000\n"
     ]
    }
   ],
   "source": [
    "t.introduce()"
   ]
  },
  {
   "cell_type": "code",
   "execution_count": 85,
   "metadata": {},
   "outputs": [
    {
     "name": "stdout",
     "output_type": "stream",
     "text": [
      "init school member pradyum jain\n",
      "init school pradyum jain\n"
     ]
    }
   ],
   "source": [
    "s = School(\"pradyum jain\",20,9.8)"
   ]
  },
  {
   "cell_type": "code",
   "execution_count": 86,
   "metadata": {},
   "outputs": [
    {
     "name": "stdout",
     "output_type": "stream",
     "text": [
      "name :  pradyum jain  age :  20\n",
      "marks : 9.8\n"
     ]
    }
   ],
   "source": [
    "s.introduce()"
   ]
  },
  {
   "cell_type": "code",
   "execution_count": null,
   "metadata": {},
   "outputs": [],
   "source": []
  }
 ],
 "metadata": {
  "kernelspec": {
   "display_name": "Python 3",
   "language": "python",
   "name": "python3"
  },
  "language_info": {
   "codemirror_mode": {
    "name": "ipython",
    "version": 3
   },
   "file_extension": ".py",
   "mimetype": "text/x-python",
   "name": "python",
   "nbconvert_exporter": "python",
   "pygments_lexer": "ipython3",
   "version": "3.8.3"
  }
 },
 "nbformat": 4,
 "nbformat_minor": 4
}
